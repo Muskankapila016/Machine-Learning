{
  "nbformat": 4,
  "nbformat_minor": 0,
  "metadata": {
    "colab": {
      "name": "Assignment2(usingMatplotlib).ipynb",
      "provenance": [],
      "collapsed_sections": [],
      "authorship_tag": "ABX9TyOpT0RcXypnUf137TjfUClM",
      "include_colab_link": true
    },
    "kernelspec": {
      "name": "python3",
      "display_name": "Python 3"
    },
    "language_info": {
      "name": "python"
    }
  },
  "cells": [
    {
      "cell_type": "markdown",
      "metadata": {
        "id": "view-in-github",
        "colab_type": "text"
      },
      "source": [
        "<a href=\"https://colab.research.google.com/github/Muskankapila016/Machine-Learning/blob/main/Assignment2(usingMatplotlib).ipynb\" target=\"_parent\"><img src=\"https://colab.research.google.com/assets/colab-badge.svg\" alt=\"Open In Colab\"/></a>"
      ]
    },
    {
      "cell_type": "markdown",
      "source": [
        "#  **Load CSV Files USing Numpy Or Pandas**"
      ],
      "metadata": {
        "id": "db88hZF7NrFt"
      }
    },
    {
      "cell_type": "code",
      "execution_count": 1,
      "metadata": {
        "id": "QcI4tQEY5DMd"
      },
      "outputs": [],
      "source": [
        "import csv\n",
        "import numpy\n",
        "filename=\"/content/Iris.csv\""
      ]
    },
    {
      "cell_type": "code",
      "source": [
        "raw_data=open(filename,'r')\n",
        "reader=csv.reader(raw_data,delimiter=',')\n",
        "x=list(reader)\n",
        "print(x)"
      ],
      "metadata": {
        "colab": {
          "base_uri": "https://localhost:8080/"
        },
        "id": "W5o4B5ZWrh4s",
        "outputId": "f57fa710-0f24-40c2-e511-f2bcd113e1c3"
      },
      "execution_count": 2,
      "outputs": [
        {
          "output_type": "stream",
          "name": "stdout",
          "text": [
            "[['Id', 'SepalLengthCm', 'SepalWidthCm', 'PetalLengthCm', 'PetalWidthCm', 'Species'], ['1', '5.1', '3.5', '1.4', '0.2', 'Iris-setosa'], ['2', '4.9', '3.0', '1.4', '0.2', 'Iris-setosa'], ['3', '4.7', '3.2', '1.3', '0.2', 'Iris-setosa'], ['4', '4.6', '3.1', '1.5', '0.2', 'Iris-setosa'], ['5', '5.0', '3.6', '1.4', '0.2', 'Iris-setosa'], ['6', '5.4', '3.9', '1.7', '0.4', 'Iris-setosa'], ['7', '4.6', '3.4', '1.4', '0.3', 'Iris-setosa'], ['8', '5.0', '3.4', '1.5', '0.2', 'Iris-setosa'], ['9', '4.4', '2.9', '1.4', '0.2', 'Iris-setosa'], ['10', '4.9', '3.1', '1.5', '0.1', 'Iris-setosa'], ['11', '5.4', '3.7', '1.5', '0.2', 'Iris-setosa'], ['12', '4.8', '3.4', '1.6', '0.2', 'Iris-setosa'], ['13', '4.8', '3.0', '1.4', '0.1', 'Iris-setosa'], ['14', '4.3', '3.0', '1.1', '0.1', 'Iris-setosa'], ['15', '5.8', '4.0', '1.2', '0.2', 'Iris-setosa'], ['16', '5.7', '4.4', '1.5', '0.4', 'Iris-setosa'], ['17', '5.4', '3.9', '1.3', '0.4', 'Iris-setosa'], ['18', '5.1', '3.5', '1.4', '0.3', 'Iris-setosa'], ['19', '5.7', '3.8', '1.7', '0.3', 'Iris-setosa'], ['20', '5.1', '3.8', '1.5', '0.3', 'Iris-setosa'], ['21', '5.4', '3.4', '1.7', '0.2', 'Iris-setosa'], ['22', '5.1', '3.7', '1.5', '0.4', 'Iris-setosa'], ['23', '4.6', '3.6', '1.0', '0.2', 'Iris-setosa'], ['24', '5.1', '3.3', '1.7', '0.5', 'Iris-setosa'], ['25', '4.8', '3.4', '1.9', '0.2', 'Iris-setosa'], ['26', '5.0', '3.0', '1.6', '0.2', 'Iris-setosa'], ['27', '5.0', '3.4', '1.6', '0.4', 'Iris-setosa'], ['28', '5.2', '3.5', '1.5', '0.2', 'Iris-setosa'], ['29', '5.2', '3.4', '1.4', '0.2', 'Iris-setosa'], ['30', '4.7', '3.2', '1.6', '0.2', 'Iris-setosa'], ['31', '4.8', '3.1', '1.6', '0.2', 'Iris-setosa'], ['32', '5.4', '3.4', '1.5', '0.4', 'Iris-setosa'], ['33', '5.2', '4.1', '1.5', '0.1', 'Iris-setosa'], ['34', '5.5', '4.2', '1.4', '0.2', 'Iris-setosa'], ['35', '4.9', '3.1', '1.5', '0.1', 'Iris-setosa'], ['36', '5.0', '3.2', '1.2', '0.2', 'Iris-setosa'], ['37', '5.5', '3.5', '1.3', '0.2', 'Iris-setosa'], ['38', '4.9', '3.1', '1.5', '0.1', 'Iris-setosa'], ['39', '4.4', '3.0', '1.3', '0.2', 'Iris-setosa'], ['40', '5.1', '3.4', '1.5', '0.2', 'Iris-setosa'], ['41', '5.0', '3.5', '1.3', '0.3', 'Iris-setosa'], ['42', '4.5', '2.3', '1.3', '0.3', 'Iris-setosa'], ['43', '4.4', '3.2', '1.3', '0.2', 'Iris-setosa'], ['44', '5.0', '3.5', '1.6', '0.6', 'Iris-setosa'], ['45', '5.1', '3.8', '1.9', '0.4', 'Iris-setosa'], ['46', '4.8', '3.0', '1.4', '0.3', 'Iris-setosa'], ['47', '5.1', '3.8', '1.6', '0.2', 'Iris-setosa'], ['48', '4.6', '3.2', '1.4', '0.2', 'Iris-setosa'], ['49', '5.3', '3.7', '1.5', '0.2', 'Iris-setosa'], ['50', '5.0', '3.3', '1.4', '0.2', 'Iris-setosa'], ['51', '7.0', '3.2', '4.7', '1.4', 'Iris-versicolor'], ['52', '6.4', '3.2', '4.5', '1.5', 'Iris-versicolor'], ['53', '6.9', '3.1', '4.9', '1.5', 'Iris-versicolor'], ['54', '5.5', '2.3', '4.0', '1.3', 'Iris-versicolor'], ['55', '6.5', '2.8', '4.6', '1.5', 'Iris-versicolor'], ['56', '5.7', '2.8', '4.5', '1.3', 'Iris-versicolor'], ['57', '6.3', '3.3', '4.7', '1.6', 'Iris-versicolor'], ['58', '4.9', '2.4', '3.3', '1.0', 'Iris-versicolor'], ['59', '6.6', '2.9', '4.6', '1.3', 'Iris-versicolor'], ['60', '5.2', '2.7', '3.9', '1.4', 'Iris-versicolor'], ['61', '5.0', '2.0', '3.5', '1.0', 'Iris-versicolor'], ['62', '5.9', '3.0', '4.2', '1.5', 'Iris-versicolor'], ['63', '6.0', '2.2', '4.0', '1.0', 'Iris-versicolor'], ['64', '6.1', '2.9', '4.7', '1.4', 'Iris-versicolor'], ['65', '5.6', '2.9', '3.6', '1.3', 'Iris-versicolor'], ['66', '6.7', '3.1', '4.4', '1.4', 'Iris-versicolor'], ['67', '5.6', '3.0', '4.5', '1.5', 'Iris-versicolor'], ['68', '5.8', '2.7', '4.1', '1.0', 'Iris-versicolor'], ['69', '6.2', '2.2', '4.5', '1.5', 'Iris-versicolor'], ['70', '5.6', '2.5', '3.9', '1.1', 'Iris-versicolor'], ['71', '5.9', '3.2', '4.8', '1.8', 'Iris-versicolor'], ['72', '6.1', '2.8', '4.0', '1.3', 'Iris-versicolor'], ['73', '6.3', '2.5', '4.9', '1.5', 'Iris-versicolor'], ['74', '6.1', '2.8', '4.7', '1.2', 'Iris-versicolor'], ['75', '6.4', '2.9', '4.3', '1.3', 'Iris-versicolor'], ['76', '6.6', '3.0', '4.4', '1.4', 'Iris-versicolor'], ['77', '6.8', '2.8', '4.8', '1.4', 'Iris-versicolor'], ['78', '6.7', '3.0', '5.0', '1.7', 'Iris-versicolor'], ['79', '6.0', '2.9', '4.5', '1.5', 'Iris-versicolor'], ['80', '5.7', '2.6', '3.5', '1.0', 'Iris-versicolor'], ['81', '5.5', '2.4', '3.8', '1.1', 'Iris-versicolor'], ['82', '5.5', '2.4', '3.7', '1.0', 'Iris-versicolor'], ['83', '5.8', '2.7', '3.9', '1.2', 'Iris-versicolor'], ['84', '6.0', '2.7', '5.1', '1.6', 'Iris-versicolor'], ['85', '5.4', '3.0', '4.5', '1.5', 'Iris-versicolor'], ['86', '6.0', '3.4', '4.5', '1.6', 'Iris-versicolor'], ['87', '6.7', '3.1', '4.7', '1.5', 'Iris-versicolor'], ['88', '6.3', '2.3', '4.4', '1.3', 'Iris-versicolor'], ['89', '5.6', '3.0', '4.1', '1.3', 'Iris-versicolor'], ['90', '5.5', '2.5', '4.0', '1.3', 'Iris-versicolor'], ['91', '5.5', '2.6', '4.4', '1.2', 'Iris-versicolor'], ['92', '6.1', '3.0', '4.6', '1.4', 'Iris-versicolor'], ['93', '5.8', '2.6', '4.0', '1.2', 'Iris-versicolor'], ['94', '5.0', '2.3', '3.3', '1.0', 'Iris-versicolor'], ['95', '5.6', '2.7', '4.2', '1.3', 'Iris-versicolor'], ['96', '5.7', '3.0', '4.2', '1.2', 'Iris-versicolor'], ['97', '5.7', '2.9', '4.2', '1.3', 'Iris-versicolor'], ['98', '6.2', '2.9', '4.3', '1.3', 'Iris-versicolor'], ['99', '5.1', '2.5', '3.0', '1.1', 'Iris-versicolor'], ['100', '5.7', '2.8', '4.1', '1.3', 'Iris-versicolor'], ['101', '6.3', '3.3', '6.0', '2.5', 'Iris-virginica'], ['102', '5.8', '2.7', '5.1', '1.9', 'Iris-virginica'], ['103', '7.1', '3.0', '5.9', '2.1', 'Iris-virginica'], ['104', '6.3', '2.9', '5.6', '1.8', 'Iris-virginica'], ['105', '6.5', '3.0', '5.8', '2.2', 'Iris-virginica'], ['106', '7.6', '3.0', '6.6', '2.1', 'Iris-virginica'], ['107', '4.9', '2.5', '4.5', '1.7', 'Iris-virginica'], ['108', '7.3', '2.9', '6.3', '1.8', 'Iris-virginica'], ['109', '6.7', '2.5', '5.8', '1.8', 'Iris-virginica'], ['110', '7.2', '3.6', '6.1', '2.5', 'Iris-virginica'], ['111', '6.5', '3.2', '5.1', '2.0', 'Iris-virginica'], ['112', '6.4', '2.7', '5.3', '1.9', 'Iris-virginica'], ['113', '6.8', '3.0', '5.5', '2.1', 'Iris-virginica'], ['114', '5.7', '2.5', '5.0', '2.0', 'Iris-virginica'], ['115', '5.8', '2.8', '5.1', '2.4', 'Iris-virginica'], ['116', '6.4', '3.2', '5.3', '2.3', 'Iris-virginica'], ['117', '6.5', '3.0', '5.5', '1.8', 'Iris-virginica'], ['118', '7.7', '3.8', '6.7', '2.2', 'Iris-virginica'], ['119', '7.7', '2.6', '6.9', '2.3', 'Iris-virginica'], ['120', '6.0', '2.2', '5.0', '1.5', 'Iris-virginica'], ['121', '6.9', '3.2', '5.7', '2.3', 'Iris-virginica'], ['122', '5.6', '2.8', '4.9', '2.0', 'Iris-virginica'], ['123', '7.7', '2.8', '6.7', '2.0', 'Iris-virginica'], ['124', '6.3', '2.7', '4.9', '1.8', 'Iris-virginica'], ['125', '6.7', '3.3', '5.7', '2.1', 'Iris-virginica'], ['126', '7.2', '3.2', '6.0', '1.8', 'Iris-virginica'], ['127', '6.2', '2.8', '4.8', '1.8', 'Iris-virginica'], ['128', '6.1', '3.0', '4.9', '1.8', 'Iris-virginica'], ['129', '6.4', '2.8', '5.6', '2.1', 'Iris-virginica'], ['130', '7.2', '3.0', '5.8', '1.6', 'Iris-virginica'], ['131', '7.4', '2.8', '6.1', '1.9', 'Iris-virginica'], ['132', '7.9', '3.8', '6.4', '2.0', 'Iris-virginica'], ['133', '6.4', '2.8', '5.6', '2.2', 'Iris-virginica'], ['134', '6.3', '2.8', '5.1', '1.5', 'Iris-virginica'], ['135', '6.1', '2.6', '5.6', '1.4', 'Iris-virginica'], ['136', '7.7', '3.0', '6.1', '2.3', 'Iris-virginica'], ['137', '6.3', '3.4', '5.6', '2.4', 'Iris-virginica'], ['138', '6.4', '3.1', '5.5', '1.8', 'Iris-virginica'], ['139', '6.0', '3.0', '4.8', '1.8', 'Iris-virginica'], ['140', '6.9', '3.1', '5.4', '2.1', 'Iris-virginica'], ['141', '6.7', '3.1', '5.6', '2.4', 'Iris-virginica'], ['142', '6.9', '3.1', '5.1', '2.3', 'Iris-virginica'], ['143', '5.8', '2.7', '5.1', '1.9', 'Iris-virginica'], ['144', '6.8', '3.2', '5.9', '2.3', 'Iris-virginica'], ['145', '6.7', '3.3', '5.7', '2.5', 'Iris-virginica'], ['146', '6.7', '3.0', '5.2', '2.3', 'Iris-virginica'], ['147', '6.3', '2.5', '5.0', '1.9', 'Iris-virginica'], ['148', '6.5', '3.0', '5.2', '2.0', 'Iris-virginica'], ['149', '6.2', '3.4', '5.4', '2.3', 'Iris-virginica'], ['150', '5.9', '3.0', '5.1', '1.8', 'Iris-virginica']]\n"
          ]
        }
      ]
    },
    {
      "cell_type": "code",
      "source": [
        "data=numpy.array(x)\n",
        "print(data)"
      ],
      "metadata": {
        "colab": {
          "base_uri": "https://localhost:8080/"
        },
        "id": "aVs1JuParmBg",
        "outputId": "5cd2b8ba-5ceb-4edd-a27f-771c3c772849"
      },
      "execution_count": 3,
      "outputs": [
        {
          "output_type": "stream",
          "name": "stdout",
          "text": [
            "[['Id' 'SepalLengthCm' 'SepalWidthCm' 'PetalLengthCm' 'PetalWidthCm'\n",
            "  'Species']\n",
            " ['1' '5.1' '3.5' '1.4' '0.2' 'Iris-setosa']\n",
            " ['2' '4.9' '3.0' '1.4' '0.2' 'Iris-setosa']\n",
            " ['3' '4.7' '3.2' '1.3' '0.2' 'Iris-setosa']\n",
            " ['4' '4.6' '3.1' '1.5' '0.2' 'Iris-setosa']\n",
            " ['5' '5.0' '3.6' '1.4' '0.2' 'Iris-setosa']\n",
            " ['6' '5.4' '3.9' '1.7' '0.4' 'Iris-setosa']\n",
            " ['7' '4.6' '3.4' '1.4' '0.3' 'Iris-setosa']\n",
            " ['8' '5.0' '3.4' '1.5' '0.2' 'Iris-setosa']\n",
            " ['9' '4.4' '2.9' '1.4' '0.2' 'Iris-setosa']\n",
            " ['10' '4.9' '3.1' '1.5' '0.1' 'Iris-setosa']\n",
            " ['11' '5.4' '3.7' '1.5' '0.2' 'Iris-setosa']\n",
            " ['12' '4.8' '3.4' '1.6' '0.2' 'Iris-setosa']\n",
            " ['13' '4.8' '3.0' '1.4' '0.1' 'Iris-setosa']\n",
            " ['14' '4.3' '3.0' '1.1' '0.1' 'Iris-setosa']\n",
            " ['15' '5.8' '4.0' '1.2' '0.2' 'Iris-setosa']\n",
            " ['16' '5.7' '4.4' '1.5' '0.4' 'Iris-setosa']\n",
            " ['17' '5.4' '3.9' '1.3' '0.4' 'Iris-setosa']\n",
            " ['18' '5.1' '3.5' '1.4' '0.3' 'Iris-setosa']\n",
            " ['19' '5.7' '3.8' '1.7' '0.3' 'Iris-setosa']\n",
            " ['20' '5.1' '3.8' '1.5' '0.3' 'Iris-setosa']\n",
            " ['21' '5.4' '3.4' '1.7' '0.2' 'Iris-setosa']\n",
            " ['22' '5.1' '3.7' '1.5' '0.4' 'Iris-setosa']\n",
            " ['23' '4.6' '3.6' '1.0' '0.2' 'Iris-setosa']\n",
            " ['24' '5.1' '3.3' '1.7' '0.5' 'Iris-setosa']\n",
            " ['25' '4.8' '3.4' '1.9' '0.2' 'Iris-setosa']\n",
            " ['26' '5.0' '3.0' '1.6' '0.2' 'Iris-setosa']\n",
            " ['27' '5.0' '3.4' '1.6' '0.4' 'Iris-setosa']\n",
            " ['28' '5.2' '3.5' '1.5' '0.2' 'Iris-setosa']\n",
            " ['29' '5.2' '3.4' '1.4' '0.2' 'Iris-setosa']\n",
            " ['30' '4.7' '3.2' '1.6' '0.2' 'Iris-setosa']\n",
            " ['31' '4.8' '3.1' '1.6' '0.2' 'Iris-setosa']\n",
            " ['32' '5.4' '3.4' '1.5' '0.4' 'Iris-setosa']\n",
            " ['33' '5.2' '4.1' '1.5' '0.1' 'Iris-setosa']\n",
            " ['34' '5.5' '4.2' '1.4' '0.2' 'Iris-setosa']\n",
            " ['35' '4.9' '3.1' '1.5' '0.1' 'Iris-setosa']\n",
            " ['36' '5.0' '3.2' '1.2' '0.2' 'Iris-setosa']\n",
            " ['37' '5.5' '3.5' '1.3' '0.2' 'Iris-setosa']\n",
            " ['38' '4.9' '3.1' '1.5' '0.1' 'Iris-setosa']\n",
            " ['39' '4.4' '3.0' '1.3' '0.2' 'Iris-setosa']\n",
            " ['40' '5.1' '3.4' '1.5' '0.2' 'Iris-setosa']\n",
            " ['41' '5.0' '3.5' '1.3' '0.3' 'Iris-setosa']\n",
            " ['42' '4.5' '2.3' '1.3' '0.3' 'Iris-setosa']\n",
            " ['43' '4.4' '3.2' '1.3' '0.2' 'Iris-setosa']\n",
            " ['44' '5.0' '3.5' '1.6' '0.6' 'Iris-setosa']\n",
            " ['45' '5.1' '3.8' '1.9' '0.4' 'Iris-setosa']\n",
            " ['46' '4.8' '3.0' '1.4' '0.3' 'Iris-setosa']\n",
            " ['47' '5.1' '3.8' '1.6' '0.2' 'Iris-setosa']\n",
            " ['48' '4.6' '3.2' '1.4' '0.2' 'Iris-setosa']\n",
            " ['49' '5.3' '3.7' '1.5' '0.2' 'Iris-setosa']\n",
            " ['50' '5.0' '3.3' '1.4' '0.2' 'Iris-setosa']\n",
            " ['51' '7.0' '3.2' '4.7' '1.4' 'Iris-versicolor']\n",
            " ['52' '6.4' '3.2' '4.5' '1.5' 'Iris-versicolor']\n",
            " ['53' '6.9' '3.1' '4.9' '1.5' 'Iris-versicolor']\n",
            " ['54' '5.5' '2.3' '4.0' '1.3' 'Iris-versicolor']\n",
            " ['55' '6.5' '2.8' '4.6' '1.5' 'Iris-versicolor']\n",
            " ['56' '5.7' '2.8' '4.5' '1.3' 'Iris-versicolor']\n",
            " ['57' '6.3' '3.3' '4.7' '1.6' 'Iris-versicolor']\n",
            " ['58' '4.9' '2.4' '3.3' '1.0' 'Iris-versicolor']\n",
            " ['59' '6.6' '2.9' '4.6' '1.3' 'Iris-versicolor']\n",
            " ['60' '5.2' '2.7' '3.9' '1.4' 'Iris-versicolor']\n",
            " ['61' '5.0' '2.0' '3.5' '1.0' 'Iris-versicolor']\n",
            " ['62' '5.9' '3.0' '4.2' '1.5' 'Iris-versicolor']\n",
            " ['63' '6.0' '2.2' '4.0' '1.0' 'Iris-versicolor']\n",
            " ['64' '6.1' '2.9' '4.7' '1.4' 'Iris-versicolor']\n",
            " ['65' '5.6' '2.9' '3.6' '1.3' 'Iris-versicolor']\n",
            " ['66' '6.7' '3.1' '4.4' '1.4' 'Iris-versicolor']\n",
            " ['67' '5.6' '3.0' '4.5' '1.5' 'Iris-versicolor']\n",
            " ['68' '5.8' '2.7' '4.1' '1.0' 'Iris-versicolor']\n",
            " ['69' '6.2' '2.2' '4.5' '1.5' 'Iris-versicolor']\n",
            " ['70' '5.6' '2.5' '3.9' '1.1' 'Iris-versicolor']\n",
            " ['71' '5.9' '3.2' '4.8' '1.8' 'Iris-versicolor']\n",
            " ['72' '6.1' '2.8' '4.0' '1.3' 'Iris-versicolor']\n",
            " ['73' '6.3' '2.5' '4.9' '1.5' 'Iris-versicolor']\n",
            " ['74' '6.1' '2.8' '4.7' '1.2' 'Iris-versicolor']\n",
            " ['75' '6.4' '2.9' '4.3' '1.3' 'Iris-versicolor']\n",
            " ['76' '6.6' '3.0' '4.4' '1.4' 'Iris-versicolor']\n",
            " ['77' '6.8' '2.8' '4.8' '1.4' 'Iris-versicolor']\n",
            " ['78' '6.7' '3.0' '5.0' '1.7' 'Iris-versicolor']\n",
            " ['79' '6.0' '2.9' '4.5' '1.5' 'Iris-versicolor']\n",
            " ['80' '5.7' '2.6' '3.5' '1.0' 'Iris-versicolor']\n",
            " ['81' '5.5' '2.4' '3.8' '1.1' 'Iris-versicolor']\n",
            " ['82' '5.5' '2.4' '3.7' '1.0' 'Iris-versicolor']\n",
            " ['83' '5.8' '2.7' '3.9' '1.2' 'Iris-versicolor']\n",
            " ['84' '6.0' '2.7' '5.1' '1.6' 'Iris-versicolor']\n",
            " ['85' '5.4' '3.0' '4.5' '1.5' 'Iris-versicolor']\n",
            " ['86' '6.0' '3.4' '4.5' '1.6' 'Iris-versicolor']\n",
            " ['87' '6.7' '3.1' '4.7' '1.5' 'Iris-versicolor']\n",
            " ['88' '6.3' '2.3' '4.4' '1.3' 'Iris-versicolor']\n",
            " ['89' '5.6' '3.0' '4.1' '1.3' 'Iris-versicolor']\n",
            " ['90' '5.5' '2.5' '4.0' '1.3' 'Iris-versicolor']\n",
            " ['91' '5.5' '2.6' '4.4' '1.2' 'Iris-versicolor']\n",
            " ['92' '6.1' '3.0' '4.6' '1.4' 'Iris-versicolor']\n",
            " ['93' '5.8' '2.6' '4.0' '1.2' 'Iris-versicolor']\n",
            " ['94' '5.0' '2.3' '3.3' '1.0' 'Iris-versicolor']\n",
            " ['95' '5.6' '2.7' '4.2' '1.3' 'Iris-versicolor']\n",
            " ['96' '5.7' '3.0' '4.2' '1.2' 'Iris-versicolor']\n",
            " ['97' '5.7' '2.9' '4.2' '1.3' 'Iris-versicolor']\n",
            " ['98' '6.2' '2.9' '4.3' '1.3' 'Iris-versicolor']\n",
            " ['99' '5.1' '2.5' '3.0' '1.1' 'Iris-versicolor']\n",
            " ['100' '5.7' '2.8' '4.1' '1.3' 'Iris-versicolor']\n",
            " ['101' '6.3' '3.3' '6.0' '2.5' 'Iris-virginica']\n",
            " ['102' '5.8' '2.7' '5.1' '1.9' 'Iris-virginica']\n",
            " ['103' '7.1' '3.0' '5.9' '2.1' 'Iris-virginica']\n",
            " ['104' '6.3' '2.9' '5.6' '1.8' 'Iris-virginica']\n",
            " ['105' '6.5' '3.0' '5.8' '2.2' 'Iris-virginica']\n",
            " ['106' '7.6' '3.0' '6.6' '2.1' 'Iris-virginica']\n",
            " ['107' '4.9' '2.5' '4.5' '1.7' 'Iris-virginica']\n",
            " ['108' '7.3' '2.9' '6.3' '1.8' 'Iris-virginica']\n",
            " ['109' '6.7' '2.5' '5.8' '1.8' 'Iris-virginica']\n",
            " ['110' '7.2' '3.6' '6.1' '2.5' 'Iris-virginica']\n",
            " ['111' '6.5' '3.2' '5.1' '2.0' 'Iris-virginica']\n",
            " ['112' '6.4' '2.7' '5.3' '1.9' 'Iris-virginica']\n",
            " ['113' '6.8' '3.0' '5.5' '2.1' 'Iris-virginica']\n",
            " ['114' '5.7' '2.5' '5.0' '2.0' 'Iris-virginica']\n",
            " ['115' '5.8' '2.8' '5.1' '2.4' 'Iris-virginica']\n",
            " ['116' '6.4' '3.2' '5.3' '2.3' 'Iris-virginica']\n",
            " ['117' '6.5' '3.0' '5.5' '1.8' 'Iris-virginica']\n",
            " ['118' '7.7' '3.8' '6.7' '2.2' 'Iris-virginica']\n",
            " ['119' '7.7' '2.6' '6.9' '2.3' 'Iris-virginica']\n",
            " ['120' '6.0' '2.2' '5.0' '1.5' 'Iris-virginica']\n",
            " ['121' '6.9' '3.2' '5.7' '2.3' 'Iris-virginica']\n",
            " ['122' '5.6' '2.8' '4.9' '2.0' 'Iris-virginica']\n",
            " ['123' '7.7' '2.8' '6.7' '2.0' 'Iris-virginica']\n",
            " ['124' '6.3' '2.7' '4.9' '1.8' 'Iris-virginica']\n",
            " ['125' '6.7' '3.3' '5.7' '2.1' 'Iris-virginica']\n",
            " ['126' '7.2' '3.2' '6.0' '1.8' 'Iris-virginica']\n",
            " ['127' '6.2' '2.8' '4.8' '1.8' 'Iris-virginica']\n",
            " ['128' '6.1' '3.0' '4.9' '1.8' 'Iris-virginica']\n",
            " ['129' '6.4' '2.8' '5.6' '2.1' 'Iris-virginica']\n",
            " ['130' '7.2' '3.0' '5.8' '1.6' 'Iris-virginica']\n",
            " ['131' '7.4' '2.8' '6.1' '1.9' 'Iris-virginica']\n",
            " ['132' '7.9' '3.8' '6.4' '2.0' 'Iris-virginica']\n",
            " ['133' '6.4' '2.8' '5.6' '2.2' 'Iris-virginica']\n",
            " ['134' '6.3' '2.8' '5.1' '1.5' 'Iris-virginica']\n",
            " ['135' '6.1' '2.6' '5.6' '1.4' 'Iris-virginica']\n",
            " ['136' '7.7' '3.0' '6.1' '2.3' 'Iris-virginica']\n",
            " ['137' '6.3' '3.4' '5.6' '2.4' 'Iris-virginica']\n",
            " ['138' '6.4' '3.1' '5.5' '1.8' 'Iris-virginica']\n",
            " ['139' '6.0' '3.0' '4.8' '1.8' 'Iris-virginica']\n",
            " ['140' '6.9' '3.1' '5.4' '2.1' 'Iris-virginica']\n",
            " ['141' '6.7' '3.1' '5.6' '2.4' 'Iris-virginica']\n",
            " ['142' '6.9' '3.1' '5.1' '2.3' 'Iris-virginica']\n",
            " ['143' '5.8' '2.7' '5.1' '1.9' 'Iris-virginica']\n",
            " ['144' '6.8' '3.2' '5.9' '2.3' 'Iris-virginica']\n",
            " ['145' '6.7' '3.3' '5.7' '2.5' 'Iris-virginica']\n",
            " ['146' '6.7' '3.0' '5.2' '2.3' 'Iris-virginica']\n",
            " ['147' '6.3' '2.5' '5.0' '1.9' 'Iris-virginica']\n",
            " ['148' '6.5' '3.0' '5.2' '2.0' 'Iris-virginica']\n",
            " ['149' '6.2' '3.4' '5.4' '2.3' 'Iris-virginica']\n",
            " ['150' '5.9' '3.0' '5.1' '1.8' 'Iris-virginica']]\n"
          ]
        }
      ]
    },
    {
      "cell_type": "code",
      "source": [
        "data.shape"
      ],
      "metadata": {
        "colab": {
          "base_uri": "https://localhost:8080/"
        },
        "id": "uV0fw9t4rr4g",
        "outputId": "7468932e-5a7b-49db-b9a9-9c09a98d6bc7"
      },
      "execution_count": 4,
      "outputs": [
        {
          "output_type": "execute_result",
          "data": {
            "text/plain": [
              "(151, 6)"
            ]
          },
          "metadata": {},
          "execution_count": 4
        }
      ]
    },
    {
      "cell_type": "code",
      "source": [
        "from numpy import loadtxt\n",
        "filename = '/content/Iris.csv'\n",
        "raw_data = open(filename,'r')\n",
        "data = loadtxt(raw_data, delimiter = \",\",dtype=object)#numpy.str\n",
        "data.shape"
      ],
      "metadata": {
        "colab": {
          "base_uri": "https://localhost:8080/"
        },
        "id": "qOAl8pPJvFwT",
        "outputId": "025518c7-5a3f-4877-86c7-16e25fe16b65"
      },
      "execution_count": 5,
      "outputs": [
        {
          "output_type": "execute_result",
          "data": {
            "text/plain": [
              "(151, 6)"
            ]
          },
          "metadata": {},
          "execution_count": 5
        }
      ]
    },
    {
      "cell_type": "code",
      "source": [
        "from pandas import read_csv\n",
        "filename='/content/Iris.csv'\n",
        "data=read_csv(filename)\n",
        "print(data)"
      ],
      "metadata": {
        "colab": {
          "base_uri": "https://localhost:8080/"
        },
        "id": "1os2DDCsxRMe",
        "outputId": "6acc8372-2820-42fb-cc5a-9d02493a4bda"
      },
      "execution_count": 6,
      "outputs": [
        {
          "output_type": "stream",
          "name": "stdout",
          "text": [
            "      Id  SepalLengthCm  SepalWidthCm  PetalLengthCm  PetalWidthCm  \\\n",
            "0      1            5.1           3.5            1.4           0.2   \n",
            "1      2            4.9           3.0            1.4           0.2   \n",
            "2      3            4.7           3.2            1.3           0.2   \n",
            "3      4            4.6           3.1            1.5           0.2   \n",
            "4      5            5.0           3.6            1.4           0.2   \n",
            "..   ...            ...           ...            ...           ...   \n",
            "145  146            6.7           3.0            5.2           2.3   \n",
            "146  147            6.3           2.5            5.0           1.9   \n",
            "147  148            6.5           3.0            5.2           2.0   \n",
            "148  149            6.2           3.4            5.4           2.3   \n",
            "149  150            5.9           3.0            5.1           1.8   \n",
            "\n",
            "            Species  \n",
            "0       Iris-setosa  \n",
            "1       Iris-setosa  \n",
            "2       Iris-setosa  \n",
            "3       Iris-setosa  \n",
            "4       Iris-setosa  \n",
            "..              ...  \n",
            "145  Iris-virginica  \n",
            "146  Iris-virginica  \n",
            "147  Iris-virginica  \n",
            "148  Iris-virginica  \n",
            "149  Iris-virginica  \n",
            "\n",
            "[150 rows x 6 columns]\n"
          ]
        }
      ]
    },
    {
      "cell_type": "code",
      "source": [
        "#another method to read a csv file\n",
        "import pandas as pd\n",
        "new_data=pd.read_csv(filename,header=None)\n",
        "#header=None is used we dont want our first sample to be our headings\n",
        "print(new_data)"
      ],
      "metadata": {
        "colab": {
          "base_uri": "https://localhost:8080/"
        },
        "id": "4PzO1ODg0IsA",
        "outputId": "8def9d84-caef-469e-db9d-53fc71f03dce"
      },
      "execution_count": 7,
      "outputs": [
        {
          "output_type": "stream",
          "name": "stdout",
          "text": [
            "       0              1             2              3             4  \\\n",
            "0     Id  SepalLengthCm  SepalWidthCm  PetalLengthCm  PetalWidthCm   \n",
            "1      1            5.1           3.5            1.4           0.2   \n",
            "2      2            4.9           3.0            1.4           0.2   \n",
            "3      3            4.7           3.2            1.3           0.2   \n",
            "4      4            4.6           3.1            1.5           0.2   \n",
            "..   ...            ...           ...            ...           ...   \n",
            "146  146            6.7           3.0            5.2           2.3   \n",
            "147  147            6.3           2.5            5.0           1.9   \n",
            "148  148            6.5           3.0            5.2           2.0   \n",
            "149  149            6.2           3.4            5.4           2.3   \n",
            "150  150            5.9           3.0            5.1           1.8   \n",
            "\n",
            "                  5  \n",
            "0           Species  \n",
            "1       Iris-setosa  \n",
            "2       Iris-setosa  \n",
            "3       Iris-setosa  \n",
            "4       Iris-setosa  \n",
            "..              ...  \n",
            "146  Iris-virginica  \n",
            "147  Iris-virginica  \n",
            "148  Iris-virginica  \n",
            "149  Iris-virginica  \n",
            "150  Iris-virginica  \n",
            "\n",
            "[151 rows x 6 columns]\n"
          ]
        }
      ]
    },
    {
      "cell_type": "code",
      "source": [
        "df=pd.read_csv(filename)\n",
        "#printing last n rows \n",
        "df.tail(10)\n",
        "#df.head(10)"
      ],
      "metadata": {
        "colab": {
          "base_uri": "https://localhost:8080/",
          "height": 363
        },
        "id": "wSBlWTFt1Dwj",
        "outputId": "926ce965-3186-4a2a-89b2-020f77f08520"
      },
      "execution_count": 8,
      "outputs": [
        {
          "output_type": "execute_result",
          "data": {
            "text/plain": [
              "      Id  SepalLengthCm  SepalWidthCm  PetalLengthCm  PetalWidthCm  \\\n",
              "140  141            6.7           3.1            5.6           2.4   \n",
              "141  142            6.9           3.1            5.1           2.3   \n",
              "142  143            5.8           2.7            5.1           1.9   \n",
              "143  144            6.8           3.2            5.9           2.3   \n",
              "144  145            6.7           3.3            5.7           2.5   \n",
              "145  146            6.7           3.0            5.2           2.3   \n",
              "146  147            6.3           2.5            5.0           1.9   \n",
              "147  148            6.5           3.0            5.2           2.0   \n",
              "148  149            6.2           3.4            5.4           2.3   \n",
              "149  150            5.9           3.0            5.1           1.8   \n",
              "\n",
              "            Species  \n",
              "140  Iris-virginica  \n",
              "141  Iris-virginica  \n",
              "142  Iris-virginica  \n",
              "143  Iris-virginica  \n",
              "144  Iris-virginica  \n",
              "145  Iris-virginica  \n",
              "146  Iris-virginica  \n",
              "147  Iris-virginica  \n",
              "148  Iris-virginica  \n",
              "149  Iris-virginica  "
            ],
            "text/html": [
              "\n",
              "  <div id=\"df-ff181aff-cd77-41d1-b9e1-718ff4a223d4\">\n",
              "    <div class=\"colab-df-container\">\n",
              "      <div>\n",
              "<style scoped>\n",
              "    .dataframe tbody tr th:only-of-type {\n",
              "        vertical-align: middle;\n",
              "    }\n",
              "\n",
              "    .dataframe tbody tr th {\n",
              "        vertical-align: top;\n",
              "    }\n",
              "\n",
              "    .dataframe thead th {\n",
              "        text-align: right;\n",
              "    }\n",
              "</style>\n",
              "<table border=\"1\" class=\"dataframe\">\n",
              "  <thead>\n",
              "    <tr style=\"text-align: right;\">\n",
              "      <th></th>\n",
              "      <th>Id</th>\n",
              "      <th>SepalLengthCm</th>\n",
              "      <th>SepalWidthCm</th>\n",
              "      <th>PetalLengthCm</th>\n",
              "      <th>PetalWidthCm</th>\n",
              "      <th>Species</th>\n",
              "    </tr>\n",
              "  </thead>\n",
              "  <tbody>\n",
              "    <tr>\n",
              "      <th>140</th>\n",
              "      <td>141</td>\n",
              "      <td>6.7</td>\n",
              "      <td>3.1</td>\n",
              "      <td>5.6</td>\n",
              "      <td>2.4</td>\n",
              "      <td>Iris-virginica</td>\n",
              "    </tr>\n",
              "    <tr>\n",
              "      <th>141</th>\n",
              "      <td>142</td>\n",
              "      <td>6.9</td>\n",
              "      <td>3.1</td>\n",
              "      <td>5.1</td>\n",
              "      <td>2.3</td>\n",
              "      <td>Iris-virginica</td>\n",
              "    </tr>\n",
              "    <tr>\n",
              "      <th>142</th>\n",
              "      <td>143</td>\n",
              "      <td>5.8</td>\n",
              "      <td>2.7</td>\n",
              "      <td>5.1</td>\n",
              "      <td>1.9</td>\n",
              "      <td>Iris-virginica</td>\n",
              "    </tr>\n",
              "    <tr>\n",
              "      <th>143</th>\n",
              "      <td>144</td>\n",
              "      <td>6.8</td>\n",
              "      <td>3.2</td>\n",
              "      <td>5.9</td>\n",
              "      <td>2.3</td>\n",
              "      <td>Iris-virginica</td>\n",
              "    </tr>\n",
              "    <tr>\n",
              "      <th>144</th>\n",
              "      <td>145</td>\n",
              "      <td>6.7</td>\n",
              "      <td>3.3</td>\n",
              "      <td>5.7</td>\n",
              "      <td>2.5</td>\n",
              "      <td>Iris-virginica</td>\n",
              "    </tr>\n",
              "    <tr>\n",
              "      <th>145</th>\n",
              "      <td>146</td>\n",
              "      <td>6.7</td>\n",
              "      <td>3.0</td>\n",
              "      <td>5.2</td>\n",
              "      <td>2.3</td>\n",
              "      <td>Iris-virginica</td>\n",
              "    </tr>\n",
              "    <tr>\n",
              "      <th>146</th>\n",
              "      <td>147</td>\n",
              "      <td>6.3</td>\n",
              "      <td>2.5</td>\n",
              "      <td>5.0</td>\n",
              "      <td>1.9</td>\n",
              "      <td>Iris-virginica</td>\n",
              "    </tr>\n",
              "    <tr>\n",
              "      <th>147</th>\n",
              "      <td>148</td>\n",
              "      <td>6.5</td>\n",
              "      <td>3.0</td>\n",
              "      <td>5.2</td>\n",
              "      <td>2.0</td>\n",
              "      <td>Iris-virginica</td>\n",
              "    </tr>\n",
              "    <tr>\n",
              "      <th>148</th>\n",
              "      <td>149</td>\n",
              "      <td>6.2</td>\n",
              "      <td>3.4</td>\n",
              "      <td>5.4</td>\n",
              "      <td>2.3</td>\n",
              "      <td>Iris-virginica</td>\n",
              "    </tr>\n",
              "    <tr>\n",
              "      <th>149</th>\n",
              "      <td>150</td>\n",
              "      <td>5.9</td>\n",
              "      <td>3.0</td>\n",
              "      <td>5.1</td>\n",
              "      <td>1.8</td>\n",
              "      <td>Iris-virginica</td>\n",
              "    </tr>\n",
              "  </tbody>\n",
              "</table>\n",
              "</div>\n",
              "      <button class=\"colab-df-convert\" onclick=\"convertToInteractive('df-ff181aff-cd77-41d1-b9e1-718ff4a223d4')\"\n",
              "              title=\"Convert this dataframe to an interactive table.\"\n",
              "              style=\"display:none;\">\n",
              "        \n",
              "  <svg xmlns=\"http://www.w3.org/2000/svg\" height=\"24px\"viewBox=\"0 0 24 24\"\n",
              "       width=\"24px\">\n",
              "    <path d=\"M0 0h24v24H0V0z\" fill=\"none\"/>\n",
              "    <path d=\"M18.56 5.44l.94 2.06.94-2.06 2.06-.94-2.06-.94-.94-2.06-.94 2.06-2.06.94zm-11 1L8.5 8.5l.94-2.06 2.06-.94-2.06-.94L8.5 2.5l-.94 2.06-2.06.94zm10 10l.94 2.06.94-2.06 2.06-.94-2.06-.94-.94-2.06-.94 2.06-2.06.94z\"/><path d=\"M17.41 7.96l-1.37-1.37c-.4-.4-.92-.59-1.43-.59-.52 0-1.04.2-1.43.59L10.3 9.45l-7.72 7.72c-.78.78-.78 2.05 0 2.83L4 21.41c.39.39.9.59 1.41.59.51 0 1.02-.2 1.41-.59l7.78-7.78 2.81-2.81c.8-.78.8-2.07 0-2.86zM5.41 20L4 18.59l7.72-7.72 1.47 1.35L5.41 20z\"/>\n",
              "  </svg>\n",
              "      </button>\n",
              "      \n",
              "  <style>\n",
              "    .colab-df-container {\n",
              "      display:flex;\n",
              "      flex-wrap:wrap;\n",
              "      gap: 12px;\n",
              "    }\n",
              "\n",
              "    .colab-df-convert {\n",
              "      background-color: #E8F0FE;\n",
              "      border: none;\n",
              "      border-radius: 50%;\n",
              "      cursor: pointer;\n",
              "      display: none;\n",
              "      fill: #1967D2;\n",
              "      height: 32px;\n",
              "      padding: 0 0 0 0;\n",
              "      width: 32px;\n",
              "    }\n",
              "\n",
              "    .colab-df-convert:hover {\n",
              "      background-color: #E2EBFA;\n",
              "      box-shadow: 0px 1px 2px rgba(60, 64, 67, 0.3), 0px 1px 3px 1px rgba(60, 64, 67, 0.15);\n",
              "      fill: #174EA6;\n",
              "    }\n",
              "\n",
              "    [theme=dark] .colab-df-convert {\n",
              "      background-color: #3B4455;\n",
              "      fill: #D2E3FC;\n",
              "    }\n",
              "\n",
              "    [theme=dark] .colab-df-convert:hover {\n",
              "      background-color: #434B5C;\n",
              "      box-shadow: 0px 1px 3px 1px rgba(0, 0, 0, 0.15);\n",
              "      filter: drop-shadow(0px 1px 2px rgba(0, 0, 0, 0.3));\n",
              "      fill: #FFFFFF;\n",
              "    }\n",
              "  </style>\n",
              "\n",
              "      <script>\n",
              "        const buttonEl =\n",
              "          document.querySelector('#df-ff181aff-cd77-41d1-b9e1-718ff4a223d4 button.colab-df-convert');\n",
              "        buttonEl.style.display =\n",
              "          google.colab.kernel.accessAllowed ? 'block' : 'none';\n",
              "\n",
              "        async function convertToInteractive(key) {\n",
              "          const element = document.querySelector('#df-ff181aff-cd77-41d1-b9e1-718ff4a223d4');\n",
              "          const dataTable =\n",
              "            await google.colab.kernel.invokeFunction('convertToInteractive',\n",
              "                                                     [key], {});\n",
              "          if (!dataTable) return;\n",
              "\n",
              "          const docLinkHtml = 'Like what you see? Visit the ' +\n",
              "            '<a target=\"_blank\" href=https://colab.research.google.com/notebooks/data_table.ipynb>data table notebook</a>'\n",
              "            + ' to learn more about interactive tables.';\n",
              "          element.innerHTML = '';\n",
              "          dataTable['output_type'] = 'display_data';\n",
              "          await google.colab.output.renderOutput(dataTable, element);\n",
              "          const docLink = document.createElement('div');\n",
              "          docLink.innerHTML = docLinkHtml;\n",
              "          element.appendChild(docLink);\n",
              "        }\n",
              "      </script>\n",
              "    </div>\n",
              "  </div>\n",
              "  "
            ]
          },
          "metadata": {},
          "execution_count": 8
        }
      ]
    },
    {
      "cell_type": "code",
      "source": [
        "#printing the specific data\n",
        "df.iloc[1:4,1:4]"
      ],
      "metadata": {
        "colab": {
          "base_uri": "https://localhost:8080/",
          "height": 143
        },
        "id": "rez8CQGQ2tLU",
        "outputId": "3adec95e-1871-4967-e732-c20bf7291b4f"
      },
      "execution_count": 9,
      "outputs": [
        {
          "output_type": "execute_result",
          "data": {
            "text/plain": [
              "   SepalLengthCm  SepalWidthCm  PetalLengthCm\n",
              "1            4.9           3.0            1.4\n",
              "2            4.7           3.2            1.3\n",
              "3            4.6           3.1            1.5"
            ],
            "text/html": [
              "\n",
              "  <div id=\"df-2d1df0b9-c547-4b75-8455-c97be053c837\">\n",
              "    <div class=\"colab-df-container\">\n",
              "      <div>\n",
              "<style scoped>\n",
              "    .dataframe tbody tr th:only-of-type {\n",
              "        vertical-align: middle;\n",
              "    }\n",
              "\n",
              "    .dataframe tbody tr th {\n",
              "        vertical-align: top;\n",
              "    }\n",
              "\n",
              "    .dataframe thead th {\n",
              "        text-align: right;\n",
              "    }\n",
              "</style>\n",
              "<table border=\"1\" class=\"dataframe\">\n",
              "  <thead>\n",
              "    <tr style=\"text-align: right;\">\n",
              "      <th></th>\n",
              "      <th>SepalLengthCm</th>\n",
              "      <th>SepalWidthCm</th>\n",
              "      <th>PetalLengthCm</th>\n",
              "    </tr>\n",
              "  </thead>\n",
              "  <tbody>\n",
              "    <tr>\n",
              "      <th>1</th>\n",
              "      <td>4.9</td>\n",
              "      <td>3.0</td>\n",
              "      <td>1.4</td>\n",
              "    </tr>\n",
              "    <tr>\n",
              "      <th>2</th>\n",
              "      <td>4.7</td>\n",
              "      <td>3.2</td>\n",
              "      <td>1.3</td>\n",
              "    </tr>\n",
              "    <tr>\n",
              "      <th>3</th>\n",
              "      <td>4.6</td>\n",
              "      <td>3.1</td>\n",
              "      <td>1.5</td>\n",
              "    </tr>\n",
              "  </tbody>\n",
              "</table>\n",
              "</div>\n",
              "      <button class=\"colab-df-convert\" onclick=\"convertToInteractive('df-2d1df0b9-c547-4b75-8455-c97be053c837')\"\n",
              "              title=\"Convert this dataframe to an interactive table.\"\n",
              "              style=\"display:none;\">\n",
              "        \n",
              "  <svg xmlns=\"http://www.w3.org/2000/svg\" height=\"24px\"viewBox=\"0 0 24 24\"\n",
              "       width=\"24px\">\n",
              "    <path d=\"M0 0h24v24H0V0z\" fill=\"none\"/>\n",
              "    <path d=\"M18.56 5.44l.94 2.06.94-2.06 2.06-.94-2.06-.94-.94-2.06-.94 2.06-2.06.94zm-11 1L8.5 8.5l.94-2.06 2.06-.94-2.06-.94L8.5 2.5l-.94 2.06-2.06.94zm10 10l.94 2.06.94-2.06 2.06-.94-2.06-.94-.94-2.06-.94 2.06-2.06.94z\"/><path d=\"M17.41 7.96l-1.37-1.37c-.4-.4-.92-.59-1.43-.59-.52 0-1.04.2-1.43.59L10.3 9.45l-7.72 7.72c-.78.78-.78 2.05 0 2.83L4 21.41c.39.39.9.59 1.41.59.51 0 1.02-.2 1.41-.59l7.78-7.78 2.81-2.81c.8-.78.8-2.07 0-2.86zM5.41 20L4 18.59l7.72-7.72 1.47 1.35L5.41 20z\"/>\n",
              "  </svg>\n",
              "      </button>\n",
              "      \n",
              "  <style>\n",
              "    .colab-df-container {\n",
              "      display:flex;\n",
              "      flex-wrap:wrap;\n",
              "      gap: 12px;\n",
              "    }\n",
              "\n",
              "    .colab-df-convert {\n",
              "      background-color: #E8F0FE;\n",
              "      border: none;\n",
              "      border-radius: 50%;\n",
              "      cursor: pointer;\n",
              "      display: none;\n",
              "      fill: #1967D2;\n",
              "      height: 32px;\n",
              "      padding: 0 0 0 0;\n",
              "      width: 32px;\n",
              "    }\n",
              "\n",
              "    .colab-df-convert:hover {\n",
              "      background-color: #E2EBFA;\n",
              "      box-shadow: 0px 1px 2px rgba(60, 64, 67, 0.3), 0px 1px 3px 1px rgba(60, 64, 67, 0.15);\n",
              "      fill: #174EA6;\n",
              "    }\n",
              "\n",
              "    [theme=dark] .colab-df-convert {\n",
              "      background-color: #3B4455;\n",
              "      fill: #D2E3FC;\n",
              "    }\n",
              "\n",
              "    [theme=dark] .colab-df-convert:hover {\n",
              "      background-color: #434B5C;\n",
              "      box-shadow: 0px 1px 3px 1px rgba(0, 0, 0, 0.15);\n",
              "      filter: drop-shadow(0px 1px 2px rgba(0, 0, 0, 0.3));\n",
              "      fill: #FFFFFF;\n",
              "    }\n",
              "  </style>\n",
              "\n",
              "      <script>\n",
              "        const buttonEl =\n",
              "          document.querySelector('#df-2d1df0b9-c547-4b75-8455-c97be053c837 button.colab-df-convert');\n",
              "        buttonEl.style.display =\n",
              "          google.colab.kernel.accessAllowed ? 'block' : 'none';\n",
              "\n",
              "        async function convertToInteractive(key) {\n",
              "          const element = document.querySelector('#df-2d1df0b9-c547-4b75-8455-c97be053c837');\n",
              "          const dataTable =\n",
              "            await google.colab.kernel.invokeFunction('convertToInteractive',\n",
              "                                                     [key], {});\n",
              "          if (!dataTable) return;\n",
              "\n",
              "          const docLinkHtml = 'Like what you see? Visit the ' +\n",
              "            '<a target=\"_blank\" href=https://colab.research.google.com/notebooks/data_table.ipynb>data table notebook</a>'\n",
              "            + ' to learn more about interactive tables.';\n",
              "          element.innerHTML = '';\n",
              "          dataTable['output_type'] = 'display_data';\n",
              "          await google.colab.output.renderOutput(dataTable, element);\n",
              "          const docLink = document.createElement('div');\n",
              "          docLink.innerHTML = docLinkHtml;\n",
              "          element.appendChild(docLink);\n",
              "        }\n",
              "      </script>\n",
              "    </div>\n",
              "  </div>\n",
              "  "
            ]
          },
          "metadata": {},
          "execution_count": 9
        }
      ]
    },
    {
      "cell_type": "code",
      "source": [
        "from pandas import read_csv\n",
        "filename='/content/Iris.csv'\n",
        "data=read_csv(filename)\n",
        "#using describe we can see the following properties\n",
        "data.describe()"
      ],
      "metadata": {
        "colab": {
          "base_uri": "https://localhost:8080/",
          "height": 300
        },
        "id": "tItd2sKZ3PBY",
        "outputId": "4d7714a5-6c3a-43a4-e18f-1add4620e62b"
      },
      "execution_count": 10,
      "outputs": [
        {
          "output_type": "execute_result",
          "data": {
            "text/plain": [
              "               Id  SepalLengthCm  SepalWidthCm  PetalLengthCm  PetalWidthCm\n",
              "count  150.000000     150.000000    150.000000     150.000000    150.000000\n",
              "mean    75.500000       5.843333      3.054000       3.758667      1.198667\n",
              "std     43.445368       0.828066      0.433594       1.764420      0.763161\n",
              "min      1.000000       4.300000      2.000000       1.000000      0.100000\n",
              "25%     38.250000       5.100000      2.800000       1.600000      0.300000\n",
              "50%     75.500000       5.800000      3.000000       4.350000      1.300000\n",
              "75%    112.750000       6.400000      3.300000       5.100000      1.800000\n",
              "max    150.000000       7.900000      4.400000       6.900000      2.500000"
            ],
            "text/html": [
              "\n",
              "  <div id=\"df-a45a6641-0573-4159-a0e2-ae29e6e6e7db\">\n",
              "    <div class=\"colab-df-container\">\n",
              "      <div>\n",
              "<style scoped>\n",
              "    .dataframe tbody tr th:only-of-type {\n",
              "        vertical-align: middle;\n",
              "    }\n",
              "\n",
              "    .dataframe tbody tr th {\n",
              "        vertical-align: top;\n",
              "    }\n",
              "\n",
              "    .dataframe thead th {\n",
              "        text-align: right;\n",
              "    }\n",
              "</style>\n",
              "<table border=\"1\" class=\"dataframe\">\n",
              "  <thead>\n",
              "    <tr style=\"text-align: right;\">\n",
              "      <th></th>\n",
              "      <th>Id</th>\n",
              "      <th>SepalLengthCm</th>\n",
              "      <th>SepalWidthCm</th>\n",
              "      <th>PetalLengthCm</th>\n",
              "      <th>PetalWidthCm</th>\n",
              "    </tr>\n",
              "  </thead>\n",
              "  <tbody>\n",
              "    <tr>\n",
              "      <th>count</th>\n",
              "      <td>150.000000</td>\n",
              "      <td>150.000000</td>\n",
              "      <td>150.000000</td>\n",
              "      <td>150.000000</td>\n",
              "      <td>150.000000</td>\n",
              "    </tr>\n",
              "    <tr>\n",
              "      <th>mean</th>\n",
              "      <td>75.500000</td>\n",
              "      <td>5.843333</td>\n",
              "      <td>3.054000</td>\n",
              "      <td>3.758667</td>\n",
              "      <td>1.198667</td>\n",
              "    </tr>\n",
              "    <tr>\n",
              "      <th>std</th>\n",
              "      <td>43.445368</td>\n",
              "      <td>0.828066</td>\n",
              "      <td>0.433594</td>\n",
              "      <td>1.764420</td>\n",
              "      <td>0.763161</td>\n",
              "    </tr>\n",
              "    <tr>\n",
              "      <th>min</th>\n",
              "      <td>1.000000</td>\n",
              "      <td>4.300000</td>\n",
              "      <td>2.000000</td>\n",
              "      <td>1.000000</td>\n",
              "      <td>0.100000</td>\n",
              "    </tr>\n",
              "    <tr>\n",
              "      <th>25%</th>\n",
              "      <td>38.250000</td>\n",
              "      <td>5.100000</td>\n",
              "      <td>2.800000</td>\n",
              "      <td>1.600000</td>\n",
              "      <td>0.300000</td>\n",
              "    </tr>\n",
              "    <tr>\n",
              "      <th>50%</th>\n",
              "      <td>75.500000</td>\n",
              "      <td>5.800000</td>\n",
              "      <td>3.000000</td>\n",
              "      <td>4.350000</td>\n",
              "      <td>1.300000</td>\n",
              "    </tr>\n",
              "    <tr>\n",
              "      <th>75%</th>\n",
              "      <td>112.750000</td>\n",
              "      <td>6.400000</td>\n",
              "      <td>3.300000</td>\n",
              "      <td>5.100000</td>\n",
              "      <td>1.800000</td>\n",
              "    </tr>\n",
              "    <tr>\n",
              "      <th>max</th>\n",
              "      <td>150.000000</td>\n",
              "      <td>7.900000</td>\n",
              "      <td>4.400000</td>\n",
              "      <td>6.900000</td>\n",
              "      <td>2.500000</td>\n",
              "    </tr>\n",
              "  </tbody>\n",
              "</table>\n",
              "</div>\n",
              "      <button class=\"colab-df-convert\" onclick=\"convertToInteractive('df-a45a6641-0573-4159-a0e2-ae29e6e6e7db')\"\n",
              "              title=\"Convert this dataframe to an interactive table.\"\n",
              "              style=\"display:none;\">\n",
              "        \n",
              "  <svg xmlns=\"http://www.w3.org/2000/svg\" height=\"24px\"viewBox=\"0 0 24 24\"\n",
              "       width=\"24px\">\n",
              "    <path d=\"M0 0h24v24H0V0z\" fill=\"none\"/>\n",
              "    <path d=\"M18.56 5.44l.94 2.06.94-2.06 2.06-.94-2.06-.94-.94-2.06-.94 2.06-2.06.94zm-11 1L8.5 8.5l.94-2.06 2.06-.94-2.06-.94L8.5 2.5l-.94 2.06-2.06.94zm10 10l.94 2.06.94-2.06 2.06-.94-2.06-.94-.94-2.06-.94 2.06-2.06.94z\"/><path d=\"M17.41 7.96l-1.37-1.37c-.4-.4-.92-.59-1.43-.59-.52 0-1.04.2-1.43.59L10.3 9.45l-7.72 7.72c-.78.78-.78 2.05 0 2.83L4 21.41c.39.39.9.59 1.41.59.51 0 1.02-.2 1.41-.59l7.78-7.78 2.81-2.81c.8-.78.8-2.07 0-2.86zM5.41 20L4 18.59l7.72-7.72 1.47 1.35L5.41 20z\"/>\n",
              "  </svg>\n",
              "      </button>\n",
              "      \n",
              "  <style>\n",
              "    .colab-df-container {\n",
              "      display:flex;\n",
              "      flex-wrap:wrap;\n",
              "      gap: 12px;\n",
              "    }\n",
              "\n",
              "    .colab-df-convert {\n",
              "      background-color: #E8F0FE;\n",
              "      border: none;\n",
              "      border-radius: 50%;\n",
              "      cursor: pointer;\n",
              "      display: none;\n",
              "      fill: #1967D2;\n",
              "      height: 32px;\n",
              "      padding: 0 0 0 0;\n",
              "      width: 32px;\n",
              "    }\n",
              "\n",
              "    .colab-df-convert:hover {\n",
              "      background-color: #E2EBFA;\n",
              "      box-shadow: 0px 1px 2px rgba(60, 64, 67, 0.3), 0px 1px 3px 1px rgba(60, 64, 67, 0.15);\n",
              "      fill: #174EA6;\n",
              "    }\n",
              "\n",
              "    [theme=dark] .colab-df-convert {\n",
              "      background-color: #3B4455;\n",
              "      fill: #D2E3FC;\n",
              "    }\n",
              "\n",
              "    [theme=dark] .colab-df-convert:hover {\n",
              "      background-color: #434B5C;\n",
              "      box-shadow: 0px 1px 3px 1px rgba(0, 0, 0, 0.15);\n",
              "      filter: drop-shadow(0px 1px 2px rgba(0, 0, 0, 0.3));\n",
              "      fill: #FFFFFF;\n",
              "    }\n",
              "  </style>\n",
              "\n",
              "      <script>\n",
              "        const buttonEl =\n",
              "          document.querySelector('#df-a45a6641-0573-4159-a0e2-ae29e6e6e7db button.colab-df-convert');\n",
              "        buttonEl.style.display =\n",
              "          google.colab.kernel.accessAllowed ? 'block' : 'none';\n",
              "\n",
              "        async function convertToInteractive(key) {\n",
              "          const element = document.querySelector('#df-a45a6641-0573-4159-a0e2-ae29e6e6e7db');\n",
              "          const dataTable =\n",
              "            await google.colab.kernel.invokeFunction('convertToInteractive',\n",
              "                                                     [key], {});\n",
              "          if (!dataTable) return;\n",
              "\n",
              "          const docLinkHtml = 'Like what you see? Visit the ' +\n",
              "            '<a target=\"_blank\" href=https://colab.research.google.com/notebooks/data_table.ipynb>data table notebook</a>'\n",
              "            + ' to learn more about interactive tables.';\n",
              "          element.innerHTML = '';\n",
              "          dataTable['output_type'] = 'display_data';\n",
              "          await google.colab.output.renderOutput(dataTable, element);\n",
              "          const docLink = document.createElement('div');\n",
              "          docLink.innerHTML = docLinkHtml;\n",
              "          element.appendChild(docLink);\n",
              "        }\n",
              "      </script>\n",
              "    </div>\n",
              "  </div>\n",
              "  "
            ]
          },
          "metadata": {},
          "execution_count": 10
        }
      ]
    },
    {
      "cell_type": "code",
      "source": [
        "#to check the datatypes of a all columns\n",
        "info = data.dtypes\n",
        "print(info)"
      ],
      "metadata": {
        "colab": {
          "base_uri": "https://localhost:8080/"
        },
        "id": "RjTq2wr_3icT",
        "outputId": "a9ba4b1d-e770-454a-c8dd-5b212d6897cf"
      },
      "execution_count": 11,
      "outputs": [
        {
          "output_type": "stream",
          "name": "stdout",
          "text": [
            "Id                 int64\n",
            "SepalLengthCm    float64\n",
            "SepalWidthCm     float64\n",
            "PetalLengthCm    float64\n",
            "PetalWidthCm     float64\n",
            "Species           object\n",
            "dtype: object\n"
          ]
        }
      ]
    },
    {
      "cell_type": "code",
      "source": [
        "#Pandas have an options system that lets you customize some aspects of its behavior,\n",
        "# display-related options being those the user is most likely to adjust\n",
        "from pandas import set_option\n",
        "set_option('display.width',1000)#Width of the display in characters\n",
        "set_option('precision',3)# precision in terms of number of places after the decimal\n",
        "print(data)"
      ],
      "metadata": {
        "colab": {
          "base_uri": "https://localhost:8080/"
        },
        "id": "4WBkTHSJ3_OJ",
        "outputId": "70bca771-10d2-47f1-c628-b67d81bd2081"
      },
      "execution_count": 12,
      "outputs": [
        {
          "output_type": "stream",
          "name": "stdout",
          "text": [
            "      Id  SepalLengthCm  SepalWidthCm  PetalLengthCm  PetalWidthCm         Species\n",
            "0      1            5.1           3.5            1.4           0.2     Iris-setosa\n",
            "1      2            4.9           3.0            1.4           0.2     Iris-setosa\n",
            "2      3            4.7           3.2            1.3           0.2     Iris-setosa\n",
            "3      4            4.6           3.1            1.5           0.2     Iris-setosa\n",
            "4      5            5.0           3.6            1.4           0.2     Iris-setosa\n",
            "..   ...            ...           ...            ...           ...             ...\n",
            "145  146            6.7           3.0            5.2           2.3  Iris-virginica\n",
            "146  147            6.3           2.5            5.0           1.9  Iris-virginica\n",
            "147  148            6.5           3.0            5.2           2.0  Iris-virginica\n",
            "148  149            6.2           3.4            5.4           2.3  Iris-virginica\n",
            "149  150            5.9           3.0            5.1           1.8  Iris-virginica\n",
            "\n",
            "[150 rows x 6 columns]\n"
          ]
        }
      ]
    },
    {
      "cell_type": "code",
      "source": [
        "#counting the number of similar values for different samples(categorizing)\n",
        "class_counts = data.groupby('Species').size()\n",
        "class_counts"
      ],
      "metadata": {
        "colab": {
          "base_uri": "https://localhost:8080/"
        },
        "id": "uYvSzRig5R2u",
        "outputId": "c36c6d3f-48d3-4c35-986b-c1bf3c659775"
      },
      "execution_count": 13,
      "outputs": [
        {
          "output_type": "execute_result",
          "data": {
            "text/plain": [
              "Species\n",
              "Iris-setosa        50\n",
              "Iris-versicolor    50\n",
              "Iris-virginica     50\n",
              "dtype: int64"
            ]
          },
          "metadata": {},
          "execution_count": 13
        }
      ]
    },
    {
      "cell_type": "code",
      "source": [
        "#finding the correlation of given data using method pearson\n",
        "corr = data.corr(method = 'pearson')\n",
        "corr"
      ],
      "metadata": {
        "colab": {
          "base_uri": "https://localhost:8080/",
          "height": 206
        },
        "id": "SoKyhLUj6G4N",
        "outputId": "215240ef-8967-4e6a-db06-e3400b62117b"
      },
      "execution_count": 14,
      "outputs": [
        {
          "output_type": "execute_result",
          "data": {
            "text/plain": [
              "                  Id  SepalLengthCm  SepalWidthCm  PetalLengthCm  PetalWidthCm\n",
              "Id             1.000          0.717        -0.398          0.883         0.900\n",
              "SepalLengthCm  0.717          1.000        -0.109          0.872         0.818\n",
              "SepalWidthCm  -0.398         -0.109         1.000         -0.421        -0.357\n",
              "PetalLengthCm  0.883          0.872        -0.421          1.000         0.963\n",
              "PetalWidthCm   0.900          0.818        -0.357          0.963         1.000"
            ],
            "text/html": [
              "\n",
              "  <div id=\"df-45b0ff26-acaf-4603-8bb8-df8b0dac0afb\">\n",
              "    <div class=\"colab-df-container\">\n",
              "      <div>\n",
              "<style scoped>\n",
              "    .dataframe tbody tr th:only-of-type {\n",
              "        vertical-align: middle;\n",
              "    }\n",
              "\n",
              "    .dataframe tbody tr th {\n",
              "        vertical-align: top;\n",
              "    }\n",
              "\n",
              "    .dataframe thead th {\n",
              "        text-align: right;\n",
              "    }\n",
              "</style>\n",
              "<table border=\"1\" class=\"dataframe\">\n",
              "  <thead>\n",
              "    <tr style=\"text-align: right;\">\n",
              "      <th></th>\n",
              "      <th>Id</th>\n",
              "      <th>SepalLengthCm</th>\n",
              "      <th>SepalWidthCm</th>\n",
              "      <th>PetalLengthCm</th>\n",
              "      <th>PetalWidthCm</th>\n",
              "    </tr>\n",
              "  </thead>\n",
              "  <tbody>\n",
              "    <tr>\n",
              "      <th>Id</th>\n",
              "      <td>1.000</td>\n",
              "      <td>0.717</td>\n",
              "      <td>-0.398</td>\n",
              "      <td>0.883</td>\n",
              "      <td>0.900</td>\n",
              "    </tr>\n",
              "    <tr>\n",
              "      <th>SepalLengthCm</th>\n",
              "      <td>0.717</td>\n",
              "      <td>1.000</td>\n",
              "      <td>-0.109</td>\n",
              "      <td>0.872</td>\n",
              "      <td>0.818</td>\n",
              "    </tr>\n",
              "    <tr>\n",
              "      <th>SepalWidthCm</th>\n",
              "      <td>-0.398</td>\n",
              "      <td>-0.109</td>\n",
              "      <td>1.000</td>\n",
              "      <td>-0.421</td>\n",
              "      <td>-0.357</td>\n",
              "    </tr>\n",
              "    <tr>\n",
              "      <th>PetalLengthCm</th>\n",
              "      <td>0.883</td>\n",
              "      <td>0.872</td>\n",
              "      <td>-0.421</td>\n",
              "      <td>1.000</td>\n",
              "      <td>0.963</td>\n",
              "    </tr>\n",
              "    <tr>\n",
              "      <th>PetalWidthCm</th>\n",
              "      <td>0.900</td>\n",
              "      <td>0.818</td>\n",
              "      <td>-0.357</td>\n",
              "      <td>0.963</td>\n",
              "      <td>1.000</td>\n",
              "    </tr>\n",
              "  </tbody>\n",
              "</table>\n",
              "</div>\n",
              "      <button class=\"colab-df-convert\" onclick=\"convertToInteractive('df-45b0ff26-acaf-4603-8bb8-df8b0dac0afb')\"\n",
              "              title=\"Convert this dataframe to an interactive table.\"\n",
              "              style=\"display:none;\">\n",
              "        \n",
              "  <svg xmlns=\"http://www.w3.org/2000/svg\" height=\"24px\"viewBox=\"0 0 24 24\"\n",
              "       width=\"24px\">\n",
              "    <path d=\"M0 0h24v24H0V0z\" fill=\"none\"/>\n",
              "    <path d=\"M18.56 5.44l.94 2.06.94-2.06 2.06-.94-2.06-.94-.94-2.06-.94 2.06-2.06.94zm-11 1L8.5 8.5l.94-2.06 2.06-.94-2.06-.94L8.5 2.5l-.94 2.06-2.06.94zm10 10l.94 2.06.94-2.06 2.06-.94-2.06-.94-.94-2.06-.94 2.06-2.06.94z\"/><path d=\"M17.41 7.96l-1.37-1.37c-.4-.4-.92-.59-1.43-.59-.52 0-1.04.2-1.43.59L10.3 9.45l-7.72 7.72c-.78.78-.78 2.05 0 2.83L4 21.41c.39.39.9.59 1.41.59.51 0 1.02-.2 1.41-.59l7.78-7.78 2.81-2.81c.8-.78.8-2.07 0-2.86zM5.41 20L4 18.59l7.72-7.72 1.47 1.35L5.41 20z\"/>\n",
              "  </svg>\n",
              "      </button>\n",
              "      \n",
              "  <style>\n",
              "    .colab-df-container {\n",
              "      display:flex;\n",
              "      flex-wrap:wrap;\n",
              "      gap: 12px;\n",
              "    }\n",
              "\n",
              "    .colab-df-convert {\n",
              "      background-color: #E8F0FE;\n",
              "      border: none;\n",
              "      border-radius: 50%;\n",
              "      cursor: pointer;\n",
              "      display: none;\n",
              "      fill: #1967D2;\n",
              "      height: 32px;\n",
              "      padding: 0 0 0 0;\n",
              "      width: 32px;\n",
              "    }\n",
              "\n",
              "    .colab-df-convert:hover {\n",
              "      background-color: #E2EBFA;\n",
              "      box-shadow: 0px 1px 2px rgba(60, 64, 67, 0.3), 0px 1px 3px 1px rgba(60, 64, 67, 0.15);\n",
              "      fill: #174EA6;\n",
              "    }\n",
              "\n",
              "    [theme=dark] .colab-df-convert {\n",
              "      background-color: #3B4455;\n",
              "      fill: #D2E3FC;\n",
              "    }\n",
              "\n",
              "    [theme=dark] .colab-df-convert:hover {\n",
              "      background-color: #434B5C;\n",
              "      box-shadow: 0px 1px 3px 1px rgba(0, 0, 0, 0.15);\n",
              "      filter: drop-shadow(0px 1px 2px rgba(0, 0, 0, 0.3));\n",
              "      fill: #FFFFFF;\n",
              "    }\n",
              "  </style>\n",
              "\n",
              "      <script>\n",
              "        const buttonEl =\n",
              "          document.querySelector('#df-45b0ff26-acaf-4603-8bb8-df8b0dac0afb button.colab-df-convert');\n",
              "        buttonEl.style.display =\n",
              "          google.colab.kernel.accessAllowed ? 'block' : 'none';\n",
              "\n",
              "        async function convertToInteractive(key) {\n",
              "          const element = document.querySelector('#df-45b0ff26-acaf-4603-8bb8-df8b0dac0afb');\n",
              "          const dataTable =\n",
              "            await google.colab.kernel.invokeFunction('convertToInteractive',\n",
              "                                                     [key], {});\n",
              "          if (!dataTable) return;\n",
              "\n",
              "          const docLinkHtml = 'Like what you see? Visit the ' +\n",
              "            '<a target=\"_blank\" href=https://colab.research.google.com/notebooks/data_table.ipynb>data table notebook</a>'\n",
              "            + ' to learn more about interactive tables.';\n",
              "          element.innerHTML = '';\n",
              "          dataTable['output_type'] = 'display_data';\n",
              "          await google.colab.output.renderOutput(dataTable, element);\n",
              "          const docLink = document.createElement('div');\n",
              "          docLink.innerHTML = docLinkHtml;\n",
              "          element.appendChild(docLink);\n",
              "        }\n",
              "      </script>\n",
              "    </div>\n",
              "  </div>\n",
              "  "
            ]
          },
          "metadata": {},
          "execution_count": 14
        }
      ]
    },
    {
      "cell_type": "code",
      "source": [
        "# checking the skewness of each feature\n",
        "skewness = data.skew()\n",
        "print(skewness)"
      ],
      "metadata": {
        "colab": {
          "base_uri": "https://localhost:8080/"
        },
        "id": "4uEiOEpf7H84",
        "outputId": "549f635a-a869-48c5-d711-9adcc5e2aaca"
      },
      "execution_count": 15,
      "outputs": [
        {
          "output_type": "stream",
          "name": "stdout",
          "text": [
            "Id               0.000\n",
            "SepalLengthCm    0.315\n",
            "SepalWidthCm     0.334\n",
            "PetalLengthCm   -0.274\n",
            "PetalWidthCm    -0.105\n",
            "dtype: float64\n"
          ]
        },
        {
          "output_type": "stream",
          "name": "stderr",
          "text": [
            "/usr/local/lib/python3.7/dist-packages/ipykernel_launcher.py:2: FutureWarning: Dropping of nuisance columns in DataFrame reductions (with 'numeric_only=None') is deprecated; in a future version this will raise TypeError.  Select only valid columns before calling the reduction.\n",
            "  \n"
          ]
        }
      ]
    },
    {
      "cell_type": "markdown",
      "source": [
        "# **Visualization of Data(Using Matplotlib)**"
      ],
      "metadata": {
        "id": "t95hnFTQOvBt"
      }
    },
    {
      "cell_type": "code",
      "source": [
        "import matplotlib.pyplot as plt\n",
        "from pandas import read_csv\n",
        "filename='/content/Iris.csv'\n",
        "data=read_csv(filename)\n",
        "data=data.iloc[:,1:]\n",
        "data.hist(figsize=(10,10))\n",
        "plt.show()\n"
      ],
      "metadata": {
        "colab": {
          "base_uri": "https://localhost:8080/",
          "height": 608
        },
        "id": "84Rm8mxf7-hS",
        "outputId": "b9cfe44e-a1fe-4222-a814-3d13f92965a0"
      },
      "execution_count": 59,
      "outputs": [
        {
          "output_type": "display_data",
          "data": {
            "text/plain": [
              "<Figure size 720x720 with 4 Axes>"
            ],
            "image/png": "[encoded data removed]"
          },
          "metadata": {
            "needs_background": "light"
          }
        }
      ]
    },
    {
      "cell_type": "code",
      "source": [
        "data.shape"
      ],
      "metadata": {
        "colab": {
          "base_uri": "https://localhost:8080/"
        },
        "id": "vedVjWipZSs7",
        "outputId": "674e73c4-aea0-4128-b22c-9830c079e86c"
      },
      "execution_count": 60,
      "outputs": [
        {
          "output_type": "execute_result",
          "data": {
            "text/plain": [
              "(150, 5)"
            ]
          },
          "metadata": {},
          "execution_count": 60
        }
      ]
    },
    {
      "cell_type": "code",
      "source": [
        "#saving image\n",
        "plt.savefig(\"testImage.png\", dpi=300)#dots per inch"
      ],
      "metadata": {
        "colab": {
          "base_uri": "https://localhost:8080/",
          "height": 34
        },
        "id": "Zk6YirxTSKQ4",
        "outputId": "4dd9f01f-0cbf-46a1-e174-ca3a09c293e8"
      },
      "execution_count": 25,
      "outputs": [
        {
          "output_type": "display_data",
          "data": {
            "text/plain": [
              "<Figure size 432x288 with 0 Axes>"
            ]
          },
          "metadata": {}
        }
      ]
    },
    {
      "cell_type": "code",
      "source": [
        "#saving in local machine\n",
        "from google.colab import files\n",
        "files.download('testImage.png')"
      ],
      "metadata": {
        "colab": {
          "base_uri": "https://localhost:8080/",
          "height": 17
        },
        "id": "ti7L7cNyRwSg",
        "outputId": "01472b4e-c573-4fbb-d542-ecc200e00479"
      },
      "execution_count": 26,
      "outputs": [
        {
          "output_type": "display_data",
          "data": {
            "text/plain": [
              "<IPython.core.display.Javascript object>"
            ],
            "application/javascript": [
              "\n",
              "    async function download(id, filename, size) {\n",
              "      if (!google.colab.kernel.accessAllowed) {\n",
              "        return;\n",
              "      }\n",
              "      const div = document.createElement('div');\n",
              "      const label = document.createElement('label');\n",
              "      label.textContent = `Downloading \"${filename}\": `;\n",
              "      div.appendChild(label);\n",
              "      const progress = document.createElement('progress');\n",
              "      progress.max = size;\n",
              "      div.appendChild(progress);\n",
              "      document.body.appendChild(div);\n",
              "\n",
              "      const buffers = [];\n",
              "      let downloaded = 0;\n",
              "\n",
              "      const channel = await google.colab.kernel.comms.open(id);\n",
              "      // Send a message to notify the kernel that we're ready.\n",
              "      channel.send({})\n",
              "\n",
              "      for await (const message of channel.messages) {\n",
              "        // Send a message to notify the kernel that we're ready.\n",
              "        channel.send({})\n",
              "        if (message.buffers) {\n",
              "          for (const buffer of message.buffers) {\n",
              "            buffers.push(buffer);\n",
              "            downloaded += buffer.byteLength;\n",
              "            progress.value = downloaded;\n",
              "          }\n",
              "        }\n",
              "      }\n",
              "      const blob = new Blob(buffers, {type: 'application/binary'});\n",
              "      const a = document.createElement('a');\n",
              "      a.href = window.URL.createObjectURL(blob);\n",
              "      a.download = filename;\n",
              "      div.appendChild(a);\n",
              "      a.click();\n",
              "      div.remove();\n",
              "    }\n",
              "  "
            ]
          },
          "metadata": {}
        },
        {
          "output_type": "display_data",
          "data": {
            "text/plain": [
              "<IPython.core.display.Javascript object>"
            ],
            "application/javascript": [
              "download(\"download_22a57dc4-2729-495c-bbd8-6f9424aa2323\", \"testImage.png\", 11255)"
            ]
          },
          "metadata": {}
        }
      ]
    },
    {
      "cell_type": "code",
      "source": [
        "# Density plots\n",
        "data.plot(kind = 'density',subplots = True, layout = (2,2), sharex = False,figsize = (10,10))\n",
        "plt.show()"
      ],
      "metadata": {
        "colab": {
          "base_uri": "https://localhost:8080/",
          "height": 592
        },
        "id": "Ycv9aEbQR8L2",
        "outputId": "44dff5d4-7bb4-45bd-933e-a894a3e634e4"
      },
      "execution_count": 62,
      "outputs": [
        {
          "output_type": "display_data",
          "data": {
            "text/plain": [
              "<Figure size 720x720 with 4 Axes>"
            ],
            "image/png": "[encoded data removed]"
          },
          "metadata": {
            "needs_background": "light"
          }
        }
      ]
    },
    {
      "cell_type": "code",
      "source": [
        "# BOX AND WHISKER PLOT\n",
        "data.plot(kind = 'box',subplots = True, layout = (2,2),sharex = False, sharey = False,figsize = (10,10))"
      ],
      "metadata": {
        "colab": {
          "base_uri": "https://localhost:8080/",
          "height": 681
        },
        "id": "6dxjF-0rTMJi",
        "outputId": "c2ffa9a2-1cee-470a-9b3d-133e9ad3e1f4"
      },
      "execution_count": 64,
      "outputs": [
        {
          "output_type": "execute_result",
          "data": {
            "text/plain": [
              "SepalLengthCm       AxesSubplot(0.125,0.536818;0.352273x0.343182)\n",
              "SepalWidthCm     AxesSubplot(0.547727,0.536818;0.352273x0.343182)\n",
              "PetalLengthCm          AxesSubplot(0.125,0.125;0.352273x0.343182)\n",
              "PetalWidthCm        AxesSubplot(0.547727,0.125;0.352273x0.343182)\n",
              "dtype: object"
            ]
          },
          "metadata": {},
          "execution_count": 64
        },
        {
          "output_type": "display_data",
          "data": {
            "text/plain": [
              "<Figure size 720x720 with 4 Axes>"
            ],
            "image/png": "[encoded data removed]"
          },
          "metadata": {
            "needs_background": "light"
          }
        }
      ]
    },
    {
      "cell_type": "code",
      "source": [
        "# bar graph\n",
        "data.plot(kind = 'bar',subplots = True, layout = (2,2),sharex = False, sharey = False,figsize = (15,15),legend=True)"
      ],
      "metadata": {
        "colab": {
          "base_uri": "https://localhost:8080/",
          "height": 975
        },
        "id": "FzM2YawgWncO",
        "outputId": "14ab2675-164e-4d2d-a28e-585c66383762"
      },
      "execution_count": 69,
      "outputs": [
        {
          "output_type": "execute_result",
          "data": {
            "text/plain": [
              "array([[<matplotlib.axes._subplots.AxesSubplot object at 0x7f8ae4986e90>,\n",
              "        <matplotlib.axes._subplots.AxesSubplot object at 0x7f8ae4919490>],\n",
              "       [<matplotlib.axes._subplots.AxesSubplot object at 0x7f8ae5132910>,\n",
              "        <matplotlib.axes._subplots.AxesSubplot object at 0x7f8ae4fb5d10>]],\n",
              "      dtype=object)"
            ]
          },
          "metadata": {},
          "execution_count": 69
        },
        {
          "output_type": "display_data",
          "data": {
            "text/plain": [
              "<Figure size 1080x1080 with 4 Axes>"
            ],
            "image/png": "[encoded data removed]"
          },
          "metadata": {
            "needs_background": "light"
          }
        }
      ]
    },
    {
      "cell_type": "code",
      "source": [
        "# Correlation matrix\n",
        "import numpy\n",
        "correlations = data.corr()\n",
        "fig = plt.figure()\n",
        "ax = fig.add_subplot(111)\n",
        "cax = ax.matshow(correlations, vmin = -1, vmax = 1)\n",
        "fig.colorbar(cax)\n",
        "plt.show()"
      ],
      "metadata": {
        "colab": {
          "base_uri": "https://localhost:8080/",
          "height": 271
        },
        "id": "435vWWEoahAO",
        "outputId": "36847b51-1921-4514-dd83-3905cd9e5ebc"
      },
      "execution_count": 76,
      "outputs": [
        {
          "output_type": "display_data",
          "data": {
            "text/plain": [
              "<Figure size 432x288 with 2 Axes>"
            ],
            "image/png": "[encoded data removed]"
          },
          "metadata": {
            "needs_background": "light"
          }
        }
      ]
    },
    {
      "cell_type": "code",
      "source": [
        "# Scatter plot  using pandas\n",
        "from pandas.plotting import scatter_matrix\n",
        "scatter_matrix(data, figsize = (5,5))"
      ],
      "metadata": {
        "colab": {
          "base_uri": "https://localhost:8080/",
          "height": 637
        },
        "id": "yNEDuXBFb_pk",
        "outputId": "1f3ca8c7-b51c-4187-8135-16c62c22c587"
      },
      "execution_count": 77,
      "outputs": [
        {
          "output_type": "execute_result",
          "data": {
            "text/plain": [
              "array([[<matplotlib.axes._subplots.AxesSubplot object at 0x7f8ae368e3d0>,\n",
              "        <matplotlib.axes._subplots.AxesSubplot object at 0x7f8ae35dca50>,\n",
              "        <matplotlib.axes._subplots.AxesSubplot object at 0x7f8ae3613f50>,\n",
              "        <matplotlib.axes._subplots.AxesSubplot object at 0x7f8ae35d6490>],\n",
              "       [<matplotlib.axes._subplots.AxesSubplot object at 0x7f8ae358c990>,\n",
              "        <matplotlib.axes._subplots.AxesSubplot object at 0x7f8ae3542e90>,\n",
              "        <matplotlib.axes._subplots.AxesSubplot object at 0x7f8ae3505450>,\n",
              "        <matplotlib.axes._subplots.AxesSubplot object at 0x7f8ae34bb890>],\n",
              "       [<matplotlib.axes._subplots.AxesSubplot object at 0x7f8ae34bb8d0>,\n",
              "        <matplotlib.axes._subplots.AxesSubplot object at 0x7f8ae3471ed0>,\n",
              "        <matplotlib.axes._subplots.AxesSubplot object at 0x7f8ae33ec810>,\n",
              "        <matplotlib.axes._subplots.AxesSubplot object at 0x7f8ae3ad9990>],\n",
              "       [<matplotlib.axes._subplots.AxesSubplot object at 0x7f8ae3a099d0>,\n",
              "        <matplotlib.axes._subplots.AxesSubplot object at 0x7f8ae420b650>,\n",
              "        <matplotlib.axes._subplots.AxesSubplot object at 0x7f8ae39d16d0>,\n",
              "        <matplotlib.axes._subplots.AxesSubplot object at 0x7f8ae3799f50>]],\n",
              "      dtype=object)"
            ]
          },
          "metadata": {},
          "execution_count": 77
        },
        {
          "output_type": "display_data",
          "data": {
            "text/plain": [
              "<Figure size 360x360 with 16 Axes>"
            ],
            "image/png": "[encoded data removed]"
          },
          "metadata": {
            "needs_background": "light"
          }
        }
      ]
    }
  ]
}