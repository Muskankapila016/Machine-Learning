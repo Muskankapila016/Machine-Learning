{
  "nbformat": 4,
  "nbformat_minor": 0,
  "metadata": {
    "colab": {
      "name": "Assignment1.ipynb",
      "provenance": [],
      "collapsed_sections": [],
      "authorship_tag": "ABX9TyMTAdpRTOBHc910+chwfyBv",
      "include_colab_link": true
    },
    "kernelspec": {
      "name": "python3",
      "display_name": "Python 3"
    },
    "language_info": {
      "name": "python"
    }
  },
  "cells": [
    {
      "cell_type": "markdown",
      "metadata": {
        "id": "view-in-github",
        "colab_type": "text"
      },
      "source": [
        "<a href=\"https://colab.research.google.com/github/Muskankapila016/Machine-Learning/blob/main/Assignment_NUMPY.ipynb\" target=\"_parent\"><img src=\"https://colab.research.google.com/assets/colab-badge.svg\" alt=\"Open In Colab\"/></a>"
      ]
    },
    {
      "cell_type": "markdown",
      "source": [
        "# Asssignment 1(using NUMPY)"
      ],
      "metadata": {
        "id": "aQAK0Sxr508s"
      }
    },
    {
      "cell_type": "code",
      "execution_count": 1,
      "metadata": {
        "id": "65GKI8hC0rgj"
      },
      "outputs": [],
      "source": [
        "#importing library numpy\n",
        "import numpy as np "
      ]
    },
    {
      "cell_type": "markdown",
      "source": [
        "Q1: Questions on Basic NumPy Array "
      ],
      "metadata": {
        "id": "312xdiBaIpK_"
      }
    },
    {
      "cell_type": "code",
      "source": [
        "a=np.array([1,2,3,4,5,6])"
      ],
      "metadata": {
        "id": "zbyTweaA016z"
      },
      "execution_count": null,
      "outputs": []
    },
    {
      "cell_type": "code",
      "source": [
        "a"
      ],
      "metadata": {
        "colab": {
          "base_uri": "https://localhost:8080/"
        },
        "id": "yCCAy0sF01_b",
        "outputId": "f0ecc847-cea2-4b81-e6ae-e515b56c1915"
      },
      "execution_count": null,
      "outputs": [
        {
          "output_type": "execute_result",
          "data": {
            "text/plain": [
              "array([1, 2, 3, 4, 5, 6])"
            ]
          },
          "metadata": {},
          "execution_count": 4
        }
      ]
    },
    {
      "cell_type": "markdown",
      "source": [
        "(a) Reverse the NumPy array: arr = np.array([1, 2, 3, 6, 4, 5]) "
      ],
      "metadata": {
        "id": "bXxYh1maAsyg"
      }
    },
    {
      "cell_type": "code",
      "source": [
        "print(f\"After flipping >>{np.flip(a)}\")"
      ],
      "metadata": {
        "colab": {
          "base_uri": "https://localhost:8080/"
        },
        "id": "Xb4Tm7He02F9",
        "outputId": "be64afc8-011b-4299-dbda-d7e9a00754ba"
      },
      "execution_count": null,
      "outputs": [
        {
          "output_type": "stream",
          "name": "stdout",
          "text": [
            "After flipping >>[6 5 4 3 2 1]\n"
          ]
        }
      ]
    },
    {
      "cell_type": "markdown",
      "source": [
        "(b) Flatten the NumPy arr: array1 = np.array([[1, 2, 3], [2, 4, 5], [1, 2, 3]]) using any two \n",
        "NumPy in-built methods"
      ],
      "metadata": {
        "id": "w19B2SdFAzRg"
      }
    },
    {
      "cell_type": "code",
      "source": [
        "b=np.array([[1,2,3],[2,4,5],[1,2,3]])"
      ],
      "metadata": {
        "id": "ziXMuH7802LS"
      },
      "execution_count": null,
      "outputs": []
    },
    {
      "cell_type": "code",
      "source": [
        "b.flatten()"
      ],
      "metadata": {
        "colab": {
          "base_uri": "https://localhost:8080/"
        },
        "id": "cJRtgIQu2as6",
        "outputId": "db17c911-d0ec-4d29-d4a6-c3bf2681c16e"
      },
      "execution_count": null,
      "outputs": [
        {
          "output_type": "execute_result",
          "data": {
            "text/plain": [
              "array([1, 2, 3, 2, 4, 5, 1, 2, 3])"
            ]
          },
          "metadata": {},
          "execution_count": 9
        }
      ]
    },
    {
      "cell_type": "markdown",
      "source": [
        "c) Compare the following numpy arrays: \n",
        "arr1 = np.array([[1, 2], [3, 4]])\n",
        "arr2 = np.array([[1, 2], [3, 4]])"
      ],
      "metadata": {
        "id": "dQWFmb8-A2Rr"
      }
    },
    {
      "cell_type": "code",
      "source": [
        "arr1 = np.array([[1, 2], [3, 4]])\n",
        "arr2 = np.array([[1, 2], [3, 4]])\n"
      ],
      "metadata": {
        "id": "qxNAswel2krR"
      },
      "execution_count": null,
      "outputs": []
    },
    {
      "cell_type": "code",
      "source": [
        "#comparing 2 arrays are equal or not\n",
        "np.array_equal(arr1,arr2)"
      ],
      "metadata": {
        "colab": {
          "base_uri": "https://localhost:8080/"
        },
        "id": "i_tmpvQg268P",
        "outputId": "333c98ff-fc73-400d-e8a1-b85e7582877c"
      },
      "execution_count": null,
      "outputs": [
        {
          "output_type": "execute_result",
          "data": {
            "text/plain": [
              "True"
            ]
          },
          "metadata": {},
          "execution_count": 11
        }
      ]
    },
    {
      "cell_type": "code",
      "source": [
        "arr1.size"
      ],
      "metadata": {
        "colab": {
          "base_uri": "https://localhost:8080/"
        },
        "id": "zL6w5lUe3WPq",
        "outputId": "54d21fdc-2473-4828-f183-8e431c8eb56e"
      },
      "execution_count": null,
      "outputs": [
        {
          "output_type": "execute_result",
          "data": {
            "text/plain": [
              "4"
            ]
          },
          "metadata": {},
          "execution_count": 12
        }
      ]
    },
    {
      "cell_type": "markdown",
      "source": [
        "(d) Find the most frequent value and their indice(s) in the following arrays: \n",
        "i. x = np.array([1,2,3,4,5,1,2,1,1,1]) \n",
        "ii. y = np.array([1, 1, 1, 2, 3, 4, 2, 4, 3, 3, ]) "
      ],
      "metadata": {
        "id": "wAx_4tCrA78h"
      }
    },
    {
      "cell_type": "code",
      "source": [
        " x = np.array([1,2,3,4,5,1,2,1,1,1])\n",
        " y = np.array([1, 1, 1, 2, 3, 4, 2, 4, 3, 3, ]) "
      ],
      "metadata": {
        "id": "tidR0rSw3phc"
      },
      "execution_count": null,
      "outputs": []
    },
    {
      "cell_type": "code",
      "source": [
        "value=np.bincount(x).argmax()\n",
        "loc=np.where(x==value)\n",
        "print(f\"Most frequent ocuuring value is :{value} and its indices are:{loc}\")"
      ],
      "metadata": {
        "colab": {
          "base_uri": "https://localhost:8080/"
        },
        "id": "l2_jL6MQ3x6P",
        "outputId": "c1aaa1d9-f2d1-4a4f-c852-72266dc5510f"
      },
      "execution_count": null,
      "outputs": [
        {
          "output_type": "stream",
          "name": "stdout",
          "text": [
            "Most frequent ocuuring value is :1 and its indices are:(array([0, 5, 7, 8, 9]),)\n"
          ]
        }
      ]
    },
    {
      "cell_type": "code",
      "source": [
        "value=np.bincount(y).argmax()\n",
        "loc=np.where(y==value)\n",
        "print(f\"Most frequent ocuuring value is :{value} and its indices are:{loc}\")"
      ],
      "metadata": {
        "colab": {
          "base_uri": "https://localhost:8080/"
        },
        "id": "Bye1FIMQ4UHk",
        "outputId": "48f31725-7407-49e0-8dbb-4a68b8be081d"
      },
      "execution_count": null,
      "outputs": [
        {
          "output_type": "stream",
          "name": "stdout",
          "text": [
            "Most frequent ocuuring value is :1 and its indices are:(array([0, 1, 2]),)\n"
          ]
        }
      ]
    },
    {
      "cell_type": "markdown",
      "source": [
        "e) For the array gfg = np.matrix('[4, 1, 9; 12, 3, 1; 4, 5, 6]'), find \n",
        "i. Sum of all elements \n",
        "ii. Sum of all elements row-wise \n",
        "iii. Sum of all elements column-wise "
      ],
      "metadata": {
        "id": "xB9O-gFdBFYi"
      }
    },
    {
      "cell_type": "code",
      "source": [
        "gfg = np.matrix('[4, 1, 9; 12, 3, 1; 4, 5, 6]')"
      ],
      "metadata": {
        "id": "YQzmvWAg4YzD"
      },
      "execution_count": null,
      "outputs": []
    },
    {
      "cell_type": "code",
      "source": [
        "gfg"
      ],
      "metadata": {
        "colab": {
          "base_uri": "https://localhost:8080/"
        },
        "id": "fulE4Gxz40QR",
        "outputId": "0e4aeb00-5016-4a1f-fe9b-86ec287c99fc"
      },
      "execution_count": null,
      "outputs": [
        {
          "output_type": "execute_result",
          "data": {
            "text/plain": [
              "matrix([[ 4,  1,  9],\n",
              "        [12,  3,  1],\n",
              "        [ 4,  5,  6]])"
            ]
          },
          "metadata": {},
          "execution_count": 18
        }
      ]
    },
    {
      "cell_type": "code",
      "source": [
        "g = gfg.sum()"
      ],
      "metadata": {
        "id": "wKmkJwDW42eY"
      },
      "execution_count": null,
      "outputs": []
    },
    {
      "cell_type": "code",
      "source": [
        "g"
      ],
      "metadata": {
        "colab": {
          "base_uri": "https://localhost:8080/"
        },
        "id": "9_UmwTEo7n2U",
        "outputId": "6339f4be-90a2-43b3-ff16-0248da7520a0"
      },
      "execution_count": null,
      "outputs": [
        {
          "output_type": "execute_result",
          "data": {
            "text/plain": [
              "45"
            ]
          },
          "metadata": {},
          "execution_count": 29
        }
      ]
    },
    {
      "cell_type": "code",
      "source": [
        "g = gfg.sum(axis=1)#columm wise sum"
      ],
      "metadata": {
        "id": "p9NhBi3V7o37"
      },
      "execution_count": null,
      "outputs": []
    },
    {
      "cell_type": "code",
      "source": [
        "g"
      ],
      "metadata": {
        "colab": {
          "base_uri": "https://localhost:8080/"
        },
        "id": "bBMirqG47zxz",
        "outputId": "d09d4b6c-b4d8-4835-8989-1e7c52eb0391"
      },
      "execution_count": null,
      "outputs": [
        {
          "output_type": "execute_result",
          "data": {
            "text/plain": [
              "matrix([[14],\n",
              "        [16],\n",
              "        [15]])"
            ]
          },
          "metadata": {},
          "execution_count": 32
        }
      ]
    },
    {
      "cell_type": "code",
      "source": [
        "g = gfg.sum(axis=0)#row wise sum"
      ],
      "metadata": {
        "id": "GWZTrneF73Tt"
      },
      "execution_count": null,
      "outputs": []
    },
    {
      "cell_type": "code",
      "source": [
        "g"
      ],
      "metadata": {
        "colab": {
          "base_uri": "https://localhost:8080/"
        },
        "id": "w2RCN3AD798-",
        "outputId": "ccf55266-097b-4b27-89dc-10f5a91adc4b"
      },
      "execution_count": null,
      "outputs": [
        {
          "output_type": "execute_result",
          "data": {
            "text/plain": [
              "matrix([[20,  9, 16]])"
            ]
          },
          "metadata": {},
          "execution_count": 34
        }
      ]
    },
    {
      "cell_type": "markdown",
      "source": [
        "(f) For the matrix: n_array = np.array([[55, 25, 15],[30, 44, 2],[11, 45, 77]]), find\n",
        "i. Sum of diagonal elements \n",
        "ii. Eigen values of matrix \n",
        "iii. Eigen vectors of matrix \n",
        "iv. Inverse of matrix \n",
        "v. Determinant of matrix"
      ],
      "metadata": {
        "id": "Gu0mXySxBP_W"
      }
    },
    {
      "cell_type": "code",
      "source": [
        " n_array = np.array([[55, 25, 15],[30, 44, 2],[11, 45, 77]])\n",
        " n_array"
      ],
      "metadata": {
        "colab": {
          "base_uri": "https://localhost:8080/"
        },
        "id": "93ZBaDBG7-y-",
        "outputId": "841bd5ea-adb7-451e-9fe9-f050f30a31a3"
      },
      "execution_count": null,
      "outputs": [
        {
          "output_type": "execute_result",
          "data": {
            "text/plain": [
              "array([[55, 25, 15],\n",
              "       [30, 44,  2],\n",
              "       [11, 45, 77]])"
            ]
          },
          "metadata": {},
          "execution_count": 46
        }
      ]
    },
    {
      "cell_type": "code",
      "source": [
        "trace = np.trace(n_array)\n",
        "trace"
      ],
      "metadata": {
        "colab": {
          "base_uri": "https://localhost:8080/"
        },
        "id": "f-wiHg-28HrA",
        "outputId": "73473591-a79c-4f96-a1f1-1b2350b899db"
      },
      "execution_count": null,
      "outputs": [
        {
          "output_type": "execute_result",
          "data": {
            "text/plain": [
              "176"
            ]
          },
          "metadata": {},
          "execution_count": 36
        }
      ]
    },
    {
      "cell_type": "code",
      "source": [
        "# finding eigenvalues and eigenvectors\n",
        "values, vectors = np.linalg.eig(n_array)\n",
        "  \n",
        "# printing eigen values\n",
        "print(\"Printing the Eigen values of the given square array:\\n\",values)\n",
        "  \n",
        "# printing eigen vectors\n",
        "print(\"Printing eigenvectors of the given square array:\\n\",vectors)"
      ],
      "metadata": {
        "colab": {
          "base_uri": "https://localhost:8080/"
        },
        "id": "OVmoPMPb8q5k",
        "outputId": "bb069cad-b0c4-4a89-db54-e42fbc817263"
      },
      "execution_count": null,
      "outputs": [
        {
          "output_type": "stream",
          "name": "stdout",
          "text": [
            "Printing the Eigen values of the given square array:\n",
            " [98.16835147 28.097044   49.73460452]\n",
            "Printing Right eigenvectors of the given square array:\n",
            " [[ 0.4574917   0.34637121 -0.15017693]\n",
            " [ 0.28447814 -0.72784061 -0.4852124 ]\n",
            " [ 0.84248058  0.59184038  0.8614034 ]]\n"
          ]
        }
      ]
    },
    {
      "cell_type": "code",
      "source": [
        "# Calculating the inverse of the matrix\n",
        "print(np.linalg.inv(n_array))"
      ],
      "metadata": {
        "colab": {
          "base_uri": "https://localhost:8080/"
        },
        "id": "5XL7K_gR9NtZ",
        "outputId": "2a2845b7-a669-4a39-8555-c63ca3be4cdf"
      },
      "execution_count": null,
      "outputs": [
        {
          "output_type": "stream",
          "name": "stdout",
          "text": [
            "[[ 0.02404141 -0.00911212 -0.00444671]\n",
            " [-0.01667882  0.02966905  0.0024785 ]\n",
            " [ 0.00631287 -0.01603732  0.01217379]]\n"
          ]
        }
      ]
    },
    {
      "cell_type": "code",
      "source": [
        "# calculating the determinant of matrix\n",
        "det = np.linalg.det(n_array)\n",
        "  \n",
        "print(\"\\nDeterminant of given 3X3 matrix:\")\n",
        "print(det)"
      ],
      "metadata": {
        "colab": {
          "base_uri": "https://localhost:8080/"
        },
        "id": "O6TkDqWu9s0f",
        "outputId": "1555ee1e-d803-4c11-e0fb-3980c919eaf1"
      },
      "execution_count": null,
      "outputs": [
        {
          "output_type": "stream",
          "name": "stdout",
          "text": [
            "\n",
            "Determinant of given 3X3 matrix:\n",
            "137180.0000000001\n"
          ]
        }
      ]
    },
    {
      "cell_type": "markdown",
      "source": [
        "(g) Multiply the following matrices and also find covariance between matrices using NumPy: \n",
        "i. p = [[1, 2], [2, 3]] q = [[4, 5], [6, 7]] \n",
        "ii. p = [[1, 2], [2, 3], [4, 5]] q = [[4, 5, 1], [6, 7, 2]]"
      ],
      "metadata": {
        "id": "R-mI6W3FBR2o"
      }
    },
    {
      "cell_type": "code",
      "source": [
        "p = [[1, 2], [2, 3]]\n",
        "q = [[4, 5], [6, 7]] "
      ],
      "metadata": {
        "id": "2ZQtXao1-AcJ"
      },
      "execution_count": null,
      "outputs": []
    },
    {
      "cell_type": "code",
      "source": [
        "# This will return dot product\n",
        "res = np.dot(p,q)\n",
        "# print resulted matrix\n",
        "print(res)"
      ],
      "metadata": {
        "colab": {
          "base_uri": "https://localhost:8080/"
        },
        "id": "EqoUgisO-coA",
        "outputId": "42a08896-0218-498c-d406-8bbab9cf3c07"
      },
      "execution_count": null,
      "outputs": [
        {
          "output_type": "stream",
          "name": "stdout",
          "text": [
            "[[16 19]\n",
            " [26 31]]\n"
          ]
        }
      ]
    },
    {
      "cell_type": "code",
      "source": [
        "# Covariance matrix\n",
        "print(\"\\nCovariance matrix of the said arrays:\\n\",np.cov(p, q))"
      ],
      "metadata": {
        "id": "YmZjq4sE-crO",
        "colab": {
          "base_uri": "https://localhost:8080/"
        },
        "outputId": "fd4107e5-0f38-4291-b597-8f990582df54"
      },
      "execution_count": null,
      "outputs": [
        {
          "output_type": "stream",
          "name": "stdout",
          "text": [
            "\n",
            "Covariance matrix of the said arrays:\n",
            " [[0.5 0.5 0.5 0.5]\n",
            " [0.5 0.5 0.5 0.5]\n",
            " [0.5 0.5 0.5 0.5]\n",
            " [0.5 0.5 0.5 0.5]]\n"
          ]
        }
      ]
    },
    {
      "cell_type": "code",
      "source": [
        "p = [[1, 2], [2, 3], [4, 5]]\n",
        "q = [[4, 5, 1], [6, 7, 2]]"
      ],
      "metadata": {
        "id": "Acwayi3a-cuQ"
      },
      "execution_count": null,
      "outputs": []
    },
    {
      "cell_type": "code",
      "source": [
        "# This will return dot product\n",
        "res = np.dot(p,q)\n",
        "# print resulted matrix\n",
        "print(res)"
      ],
      "metadata": {
        "id": "zr0Y58ks-cxY",
        "colab": {
          "base_uri": "https://localhost:8080/"
        },
        "outputId": "86a586e7-b47a-4585-b5f7-8dd23c9181ed"
      },
      "execution_count": null,
      "outputs": [
        {
          "output_type": "stream",
          "name": "stdout",
          "text": [
            "[[16 19  5]\n",
            " [26 31  8]\n",
            " [46 55 14]]\n"
          ]
        }
      ]
    },
    {
      "cell_type": "code",
      "source": [
        "# Covariance matrix(shape of both the matrix should be same)\n",
        "print(\"\\nCovariance matrix of the said arrays:\\n\",np.cov(p, q))"
      ],
      "metadata": {
        "id": "6rEAKfbe-c0W"
      },
      "execution_count": null,
      "outputs": []
    },
    {
      "cell_type": "markdown",
      "source": [
        "(h) For the matrices: x = np.array([[2, 3, 4], [3, 2, 9]]); y = np.array([[1, 5, 0], [5, 10, 3]]), \n",
        "find inner, outer and cartesian product?\n"
      ],
      "metadata": {
        "id": "i7vnfcf3E-0M"
      }
    },
    {
      "cell_type": "code",
      "source": [
        "a = np.array([[2, 3, 4], [3, 2, 9]])\n",
        "b = np.array([[1, 5, 0], [5, 10, 3]])"
      ],
      "metadata": {
        "id": "CES_PF31EDYI"
      },
      "execution_count": null,
      "outputs": []
    },
    {
      "cell_type": "code",
      "source": [
        "# Inner Product of Vectors\n",
        "print(\"\\nInner product of a and b =\")\n",
        "print(np.inner(a, b))"
      ],
      "metadata": {
        "colab": {
          "base_uri": "https://localhost:8080/"
        },
        "id": "m-2zvVASFYPw",
        "outputId": "6ab27511-d212-4efc-81eb-50a88c7fc87a"
      },
      "execution_count": null,
      "outputs": [
        {
          "output_type": "stream",
          "name": "stdout",
          "text": [
            "\n",
            "Inner product of a and b =\n",
            "[[17 52]\n",
            " [13 62]]\n"
          ]
        }
      ]
    },
    {
      "cell_type": "code",
      "source": [
        "# Outer product of vectors \n",
        "print(\"\\nOuter product of vectors a and b =\")\n",
        "print(np.outer(a, b))"
      ],
      "metadata": {
        "colab": {
          "base_uri": "https://localhost:8080/"
        },
        "id": "KO7vgtoVFYMY",
        "outputId": "5186927d-1df0-483a-ebc6-89c7342696d2"
      },
      "execution_count": null,
      "outputs": [
        {
          "output_type": "stream",
          "name": "stdout",
          "text": [
            "\n",
            "Outer product of vectors a and b =\n",
            "[[ 2 10  0 10 20  6]\n",
            " [ 3 15  0 15 30  9]\n",
            " [ 4 20  0 20 40 12]\n",
            " [ 3 15  0 15 30  9]\n",
            " [ 2 10  0 10 20  6]\n",
            " [ 9 45  0 45 90 27]]\n"
          ]
        }
      ]
    },
    {
      "cell_type": "code",
      "source": [
        "#cartesian product\n",
        "result =  np.cross(a,b)\n",
        "print(result)"
      ],
      "metadata": {
        "id": "g_ggakCUFYJ1",
        "colab": {
          "base_uri": "https://localhost:8080/"
        },
        "outputId": "ecb52580-c0ed-41e1-9021-20b5f20da154"
      },
      "execution_count": null,
      "outputs": [
        {
          "output_type": "stream",
          "name": "stdout",
          "text": [
            "[[-20   4   7]\n",
            " [-84  36  20]]\n"
          ]
        }
      ]
    },
    {
      "cell_type": "markdown",
      "source": [
        "Q2: Based on NumPy Mathematics and Statistics \n"
      ],
      "metadata": {
        "id": "S0Nmc-olIsTe"
      }
    },
    {
      "cell_type": "markdown",
      "source": [
        "(a) For the array: array = np.array([[1, -2, 3],[-4, 5, -6]])\n",
        "i. Find element-wise absolute value "
      ],
      "metadata": {
        "id": "XIPPRbU1I2GB"
      }
    },
    {
      "cell_type": "code",
      "source": [
        "array = np.array([[1, -2, 3],[-4, 5, -6]])"
      ],
      "metadata": {
        "id": "LlVhSLoj3dZq"
      },
      "execution_count": null,
      "outputs": []
    },
    {
      "cell_type": "code",
      "source": [
        "array"
      ],
      "metadata": {
        "colab": {
          "base_uri": "https://localhost:8080/"
        },
        "id": "3P4dew9P3c9h",
        "outputId": "bb7a081b-dc8d-44b0-ca08-884749d73271"
      },
      "execution_count": null,
      "outputs": [
        {
          "output_type": "execute_result",
          "data": {
            "text/plain": [
              "array([[ 1, -2,  3],\n",
              "       [-4,  5, -6]])"
            ]
          },
          "metadata": {},
          "execution_count": 4
        }
      ]
    },
    {
      "cell_type": "code",
      "source": [
        "print(f\"Element wise absolute value is:{np.absolute(array)}\")"
      ],
      "metadata": {
        "colab": {
          "base_uri": "https://localhost:8080/"
        },
        "id": "7a2d6oqd3vBQ",
        "outputId": "3668479e-afd1-4075-e244-f29c494daaaf"
      },
      "execution_count": null,
      "outputs": [
        {
          "output_type": "stream",
          "name": "stdout",
          "text": [
            "Element wise absolute value is:[[1 2 3]\n",
            " [4 5 6]]\n"
          ]
        }
      ]
    },
    {
      "cell_type": "markdown",
      "source": [
        "ii. Find the 25th, 50th, and 75th percentile of flattened array, for each column, for each \n",
        "row"
      ],
      "metadata": {
        "id": "HyhlpCXSJPR8"
      }
    },
    {
      "cell_type": "code",
      "source": [
        "arr= np.array([[1, -2, 3],[-4, 5, -6]])"
      ],
      "metadata": {
        "id": "5xBG6IMA4Keq"
      },
      "execution_count": null,
      "outputs": []
    },
    {
      "cell_type": "code",
      "source": [
        "arr=arr.flatten()"
      ],
      "metadata": {
        "id": "72K1q4zl4OVe"
      },
      "execution_count": null,
      "outputs": []
    },
    {
      "cell_type": "code",
      "source": [
        "# Percentile of the flattened array\n",
        "# Percentile along the axis = 0\n",
        "print(\"\\n50th Percentile of arr, axis = 0 : \",np.percentile(arr, 50, axis =0))\n",
        "print(\"\\n25th Percentile of arr, axis = 0 : \",np.percentile(arr, 25, axis =0))\n",
        "print(\"\\n75th Percentile of arr, axis = 0 : \",np.percentile(arr, 75, axis =0))"
      ],
      "metadata": {
        "colab": {
          "base_uri": "https://localhost:8080/"
        },
        "id": "oCP-FMOv8H-M",
        "outputId": "a9cdf2dd-a8f9-40c6-dd4a-33d298f4f383"
      },
      "execution_count": null,
      "outputs": [
        {
          "output_type": "stream",
          "name": "stdout",
          "text": [
            "\n",
            "50th Percentile of arr, axis = 0 :  -0.5\n",
            "\n",
            "25th Percentile of arr, axis = 0 :  -3.5\n",
            "\n",
            "75th Percentile of arr, axis = 0 :  2.5\n"
          ]
        }
      ]
    },
    {
      "cell_type": "code",
      "source": [
        "# Percentile of the flattened array\n",
        "# Percentile along the axis = 1(row wise)\n",
        "print(\"\\n50th Percentile of arr, axis = 1 : \",np.percentile(arr, 50, axis =1))\n",
        "print(\"\\n25th Percentile of arr, axis = 1 : \",np.percentile(arr, 25, axis =1))\n",
        "print(\"\\n75th Percentile of arr, axis = 1 : \",np.percentile(arr, 75, axis =1))"
      ],
      "metadata": {
        "id": "B735mVVZ8rzE"
      },
      "execution_count": null,
      "outputs": []
    },
    {
      "cell_type": "markdown",
      "source": [
        "iii. Mean, Median and Standard Deviation of flattened array, of each column, and \n",
        "each row"
      ],
      "metadata": {
        "id": "dcciYd_6JSET"
      }
    },
    {
      "cell_type": "code",
      "source": [
        "arr= np.array([[1, -2, 3],[-4, 5, -6]])"
      ],
      "metadata": {
        "id": "685LYtYy-zC9"
      },
      "execution_count": 5,
      "outputs": []
    },
    {
      "cell_type": "code",
      "source": [
        "#calculate standard deviation\n",
        "print(f\"standard deviation along x axis {np.std(arr, axis=1)}\")\n",
        "print(\"-----------------\")\n",
        "print(f\"standard deviation along y axis {np.std(arr, axis=0)}\")"
      ],
      "metadata": {
        "colab": {
          "base_uri": "https://localhost:8080/"
        },
        "id": "0WBCZMlu-v7m",
        "outputId": "8875f4dd-1d52-41fa-9830-3e875bdbf6f7"
      },
      "execution_count": 7,
      "outputs": [
        {
          "output_type": "stream",
          "name": "stdout",
          "text": [
            "standard deviation along x axis [2.05480467 4.78423336]\n",
            "-----------------\n",
            "standard deviation along y axis [2.5 3.5 4.5]\n"
          ]
        }
      ]
    },
    {
      "cell_type": "code",
      "source": [
        "#to calculate mean\n",
        "print(np.mean(arr, axis=0))\n",
        "print(\"-----------------------\")\n",
        "print(np.mean(arr, axis=1))"
      ],
      "metadata": {
        "colab": {
          "base_uri": "https://localhost:8080/"
        },
        "id": "64rCsgjS_ad-",
        "outputId": "64dfea0a-e5b8-48bf-fdf3-6c73d72ba1e7"
      },
      "execution_count": null,
      "outputs": [
        {
          "output_type": "stream",
          "name": "stdout",
          "text": [
            "[-1.5  1.5 -1.5]\n",
            "-----------------------\n",
            "[ 0.66666667 -1.66666667]\n"
          ]
        }
      ]
    },
    {
      "cell_type": "code",
      "source": [
        "#to calculate median\n",
        "print(np.median(arr, axis=0))\n",
        "print(\"-----------------------\")\n",
        "print(np.median(arr, axis=1))\n"
      ],
      "metadata": {
        "colab": {
          "base_uri": "https://localhost:8080/"
        },
        "id": "EkGjKuca_04a",
        "outputId": "4607d90d-b3ea-4b31-c189-950c8f36de64"
      },
      "execution_count": null,
      "outputs": [
        {
          "output_type": "stream",
          "name": "stdout",
          "text": [
            "[-1.5  1.5 -1.5]\n",
            "-----------------------\n",
            "[ 1. -4.]\n"
          ]
        }
      ]
    },
    {
      "cell_type": "markdown",
      "source": [
        "(b) For the array: a = np.array([-1.8, -1.6, -0.5, 0.5,1.6, 1.8, 3.0]). Find floor, ceiling \n",
        "and truncated value, rounded values"
      ],
      "metadata": {
        "id": "1E4ncaDRJWKo"
      }
    },
    {
      "cell_type": "code",
      "source": [
        "arr = np.array([-1.8, -1.6, -0.5, 0.5,1.6, 1.8, 3.0])"
      ],
      "metadata": {
        "id": "o0UA1GVJFYHl"
      },
      "execution_count": null,
      "outputs": []
    },
    {
      "cell_type": "code",
      "source": [
        "# Get floor value\n",
        "a = np.floor(arr)\n",
        "print(a)"
      ],
      "metadata": {
        "id": "2OE0ZLsbFYBQ",
        "colab": {
          "base_uri": "https://localhost:8080/"
        },
        "outputId": "f32552b3-3ead-463b-aac8-e961d84c68b6"
      },
      "execution_count": null,
      "outputs": [
        {
          "output_type": "stream",
          "name": "stdout",
          "text": [
            "[-2. -2. -1.  0.  1.  1.  3.]\n"
          ]
        }
      ]
    },
    {
      "cell_type": "code",
      "source": [
        "# Get ceil value\n",
        "a = np.ceil(arr)\n",
        "print(a)"
      ],
      "metadata": {
        "id": "aNJRmlPMFX5O",
        "colab": {
          "base_uri": "https://localhost:8080/"
        },
        "outputId": "e0909f11-6dab-4b87-9d62-bbe11e77ab7b"
      },
      "execution_count": null,
      "outputs": [
        {
          "output_type": "stream",
          "name": "stdout",
          "text": [
            "[-1. -1. -0.  1.  2.  2.  3.]\n"
          ]
        }
      ]
    },
    {
      "cell_type": "code",
      "source": [
        "# Get truncate value\n",
        "a = np.trunc(arr)\n",
        "print(a)"
      ],
      "metadata": {
        "colab": {
          "base_uri": "https://localhost:8080/"
        },
        "id": "-M5TkGiYA9Np",
        "outputId": "d59732a8-7cd1-4d06-bd09-a4ab62f191b2"
      },
      "execution_count": null,
      "outputs": [
        {
          "output_type": "stream",
          "name": "stdout",
          "text": [
            "[-1. -1. -0.  0.  1.  1.  3.]\n"
          ]
        }
      ]
    },
    {
      "cell_type": "markdown",
      "source": [
        "Q3: Based on Searching and Sorting "
      ],
      "metadata": {
        "id": "whJcTOZnB0CU"
      }
    },
    {
      "cell_type": "markdown",
      "source": [
        "(a) For the array: array = np.array([10, 52, 62, 16, 16, 54, 453]), find "
      ],
      "metadata": {
        "id": "e1vr9RB1B1TO"
      }
    },
    {
      "cell_type": "markdown",
      "source": [
        "i. Sorted array \n",
        "ii. Indices of sorted array \n",
        "iii. 4 smallest elements \n",
        "iv. 5 largest elements"
      ],
      "metadata": {
        "id": "Gph7_c7-B5kr"
      }
    },
    {
      "cell_type": "code",
      "source": [
        "array = np.array([10, 52, 62, 16, 16, 54, 453])"
      ],
      "metadata": {
        "id": "dQstbMLm4SKQ"
      },
      "execution_count": null,
      "outputs": []
    },
    {
      "cell_type": "code",
      "source": [
        "c = (np.sort(array))\n",
        "print(c)"
      ],
      "metadata": {
        "colab": {
          "base_uri": "https://localhost:8080/"
        },
        "id": "oJvJeO_J4V3k",
        "outputId": "d3a3df0e-3f06-4af0-9bed-257ef9d1b61f"
      },
      "execution_count": null,
      "outputs": [
        {
          "output_type": "stream",
          "name": "stdout",
          "text": [
            "[ 10  16  16  52  54  62 453]\n"
          ]
        }
      ]
    },
    {
      "cell_type": "code",
      "source": [
        "i = np.argsort(array)\n",
        "print(\"Indices of the sorted elements of a given array:\")\n",
        "print(i)"
      ],
      "metadata": {
        "colab": {
          "base_uri": "https://localhost:8080/"
        },
        "id": "kEcxC3bR48gE",
        "outputId": "1d261f36-e159-4cbd-fe95-3dd31b74e363"
      },
      "execution_count": null,
      "outputs": [
        {
          "output_type": "stream",
          "name": "stdout",
          "text": [
            "Indices of the sorted elements of a given array:\n",
            "[0 3 4 1 5 2 6]\n"
          ]
        }
      ]
    },
    {
      "cell_type": "code",
      "source": [
        "# k smallest number of array\n",
        "k=4\n",
        "print(k, \"smallest elements of the array\")\n",
        "print(c[:k])"
      ],
      "metadata": {
        "colab": {
          "base_uri": "https://localhost:8080/"
        },
        "id": "IGITDxfc5pRj",
        "outputId": "acfbbeb0-299b-491b-f5b0-53b29d951af2"
      },
      "execution_count": null,
      "outputs": [
        {
          "output_type": "stream",
          "name": "stdout",
          "text": [
            "4 smallest elements of the array\n",
            "[10 16 16 52]\n"
          ]
        }
      ]
    },
    {
      "cell_type": "code",
      "source": [
        "# find n largest value\n",
        "n=5\n",
        "rslt = c[-n : ]\n",
        "  \n",
        "# show the output\n",
        "print(f\"{n} largest value:\", rslt)"
      ],
      "metadata": {
        "colab": {
          "base_uri": "https://localhost:8080/"
        },
        "id": "e2Tyb3cx6UL_",
        "outputId": "8d910fba-3c41-4012-e28c-214246209c6c"
      },
      "execution_count": null,
      "outputs": [
        {
          "output_type": "stream",
          "name": "stdout",
          "text": [
            "5 largest value: [ 16  52  54  62 453]\n"
          ]
        }
      ]
    },
    {
      "cell_type": "markdown",
      "source": [
        "(b) For the array: array = np.array([1.0, 1.2, 2.2, 2.0, 3.0, 2.0]), find "
      ],
      "metadata": {
        "id": "k6bLyYSWCHbu"
      }
    },
    {
      "cell_type": "markdown",
      "source": [
        "i. Integer elements only \n",
        "ii. Float elements only"
      ],
      "metadata": {
        "id": "pOOlZ3aoCEgR"
      }
    },
    {
      "cell_type": "code",
      "source": [
        "def isInt(num):\n",
        "    return np.equal(np.mod(num, 1),0)\n",
        "arr = np.array([1.0, 1.2, 2.2, 2.0, 3.0, 2.0])\n",
        "for num in arr:\n",
        "    if isInt(num):\n",
        "        print(num, \"is an integer\")"
      ],
      "metadata": {
        "id": "QGdRAiE1BUzF",
        "colab": {
          "base_uri": "https://localhost:8080/"
        },
        "outputId": "281a111e-f83a-4d3e-8bee-df6c8ffb0918"
      },
      "execution_count": 10,
      "outputs": [
        {
          "output_type": "stream",
          "name": "stdout",
          "text": [
            "1.0 is an integer\n",
            "2.0 is an integer\n",
            "3.0 is an integer\n",
            "2.0 is an integer\n"
          ]
        }
      ]
    },
    {
      "cell_type": "code",
      "source": [
        "arr = np.array([1.0, 1.2, 2.2, 2.0, 3.0, 2.0])\n",
        "for i in arr:\n",
        "    if type(i)==float:\n",
        "        print(i, \"is a float element\")"
      ],
      "metadata": {
        "id": "AMngtbn2L-Ec"
      },
      "execution_count": 11,
      "outputs": []
    },
    {
      "cell_type": "markdown",
      "source": [
        "Q4: \n",
        "(a) Write a function named img_to_array(path) that reads an image from a specified path and \n",
        "save it as text file on local machine? (Note: use separate cases for RGB and Grey Scale \n",
        "images) \n",
        "(b) Load the saved file into jupyter notebook? "
      ],
      "metadata": {
        "id": "0dfzg4288NmW"
      }
    },
    {
      "cell_type": "code",
      "source": [
        "!pip install Pillow\n",
        "from PIL import Image"
      ],
      "metadata": {
        "id": "p00JeoDe8QAY",
        "colab": {
          "base_uri": "https://localhost:8080/"
        },
        "outputId": "31e560f4-38dc-45f3-dc40-3662e00d89be"
      },
      "execution_count": 2,
      "outputs": [
        {
          "output_type": "stream",
          "name": "stdout",
          "text": [
            "Looking in indexes: https://pypi.org/simple, https://us-python.pkg.dev/colab-wheels/public/simple/\n",
            "Requirement already satisfied: Pillow in /usr/local/lib/python3.7/dist-packages (7.1.2)\n"
          ]
        }
      ]
    },
    {
      "cell_type": "code",
      "source": [
        "def img_to_array(path):\n",
        "  image = Image.open(path)\n",
        "  data = np.asarray(image)\n",
        "  with open(\"file.txt\",\"w\") as file:\n",
        "    file.write(f\"{data}\")\n",
        "\n",
        "print(\"Grey scale image\")\n",
        "img_to_array('/content/machine-learning.jpg')\n",
        "print(\"RGB image\")\n",
        "img_to_array('/content/machine-learning.jpg')"
      ],
      "metadata": {
        "colab": {
          "base_uri": "https://localhost:8080/"
        },
        "id": "qOj1G6C5vh21",
        "outputId": "415c1d2b-f298-4bbe-ea9a-b165c144cafe"
      },
      "execution_count": 8,
      "outputs": [
        {
          "output_type": "stream",
          "name": "stdout",
          "text": [
            "Grey scale image\n",
            "RGB image\n"
          ]
        }
      ]
    }
  ]
}